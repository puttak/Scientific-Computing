{
 "cells": [
  {
   "cell_type": "markdown",
   "metadata": {},
   "source": [
    "# ME 581 HW 1 Solution [Python3]\n",
    "Yi Yang"
   ]
  },
  {
   "cell_type": "markdown",
   "metadata": {},
   "source": [
    "## Problem 1\n",
    "Verify that the function $f(x) = x^3 + x^2 - 3x - 3$ has a zero on the interval $(1,2)$ by plotting the function. Next, perform the first five iterations of the bisection method and verify that each approximation satifies the theoretical error bound of the bisection method, but that the actual errors do not steadily decrease. The exact location of the zero is $p = \\sqrt{3}$.\n",
    "\n",
    "Solution: The function $f(x)$ and an horizon line $h(x) = 0$ are plotted below, It is obvious that has a zero on the interval $(1,2)$."
   ]
  },
  {
   "cell_type": "code",
   "execution_count": 23,
   "metadata": {},
   "outputs": [
    {
     "data": {
      "image/png": "[encoded data removed]",
      "text/plain": [
       "<matplotlib.figure.Figure at 0x7f69e9ff2b00>"
      ]
     },
     "metadata": {},
     "output_type": "display_data"
    }
   ],
   "source": [
    "from matplotlib import pyplot as plt\n",
    "import numpy as np\n",
    "import matplotlib.patches as mpatches\n",
    "\n",
    "# set discrete x variables\n",
    "x = np.linspace(1,2,101)\n",
    "# evaluate function f(x) and h(x)\n",
    "f = x**3 + x**2 - 3*x - 3\n",
    "h = np.zeros(x.shape)\n",
    "# plot f and h\n",
    "plt.plot(x,f,\"r\")\n",
    "plt.plot(x,h,\"b\")\n",
    "# Axes and a legend are added\n",
    "red_patch = mpatches.Patch(color='red',label='f(x)=x^3+x^2-3*x-3')\n",
    "blue_patch = mpatches.Patch(color='blue',label='h(x)=0')\n",
    "plt.legend(handles=[red_patch,blue_patch])\n",
    "plt.xlabel('x')\n",
    "plt.ylabel('f(x)')\n",
    "plt.show()"
   ]
  },
  {
   "cell_type": "markdown",
   "metadata": {},
   "source": [
    "Now, we move forward to find five iterations of bisection methods, code is shown below:"
   ]
  },
  {
   "cell_type": "code",
   "execution_count": 24,
   "metadata": {},
   "outputs": [
    {
     "name": "stdout",
     "output_type": "stream",
     "text": [
      "**ME581 Homework Printout**\n",
      "\n",
      "The Bisection Method is applied to calculate\n",
      "an estimate of the root p of the function\n",
      "f(x)=x^3+x^2-3*x-3 in the range (1,2):\n",
      "\n",
      "Root Estimate #1: p(1) =          1.500000000e+00\n",
      "Root Estimate #2: p(2) =          1.750000000e+00\n",
      "Root Estimate #3: p(3) =          1.625000000e+00\n",
      "Root Estimate #4: p(4) =          1.687500000e+00\n",
      "Root Estimate #5: p(5) =          1.718750000e+00\n",
      "The maximum number of 5 iterations          has been met.\n"
     ]
    }
   ],
   "source": [
    "# This script applies the Bisection Method to\n",
    "# determine the zero of the function\n",
    "# f(x)=x^3+x^2-3*x-3 in the range (1,2).\n",
    "\n",
    "# An Introduction is printed\n",
    "print('**ME581 Homework Printout**\\n');\n",
    "print('The Bisection Method is applied to calculate')\n",
    "print('an estimate of the root ''p'' of the function');\n",
    "print('f(x)=x^3+x^2-3*x-3 in the range (1,2):\\n');\n",
    "\n",
    "# Given: The function 'f' is redefined here and\n",
    "# may be used in the manner f(1)=-1.\n",
    "def f(x):\n",
    "    var=x**3.0+(x**2.0)-3.0*x-3.0\n",
    "    return var\n",
    "\n",
    "# The left- and right-endpoints of the initial interval are\n",
    "# defined as 'a' and 'b'.\n",
    "a = 1\n",
    "b = 2\n",
    "\n",
    "# A convergence tolerance 'epsilon' is chosen and defined.\n",
    "epsilon = 0.0001\n",
    "\n",
    "# A maximum number of iterations is chosen and defined.\n",
    "# This will be used to exit the script if the maximum\n",
    "# number of iterations is exceeded.\n",
    "Nmax = 5\n",
    "\n",
    "# An Nmax-by-1 array of NaNs (Not-a-Number) is created to\n",
    "# store the approximations 'p(ii)' for each iteration 'ii'\n",
    "p = np.zeros(Nmax)\n",
    "p.fill(np.nan)\n",
    "\n",
    "# An index is created to keep track of the iteration number.\n",
    "ii = 1\n",
    "\n",
    "# The sign of the function f(x) at the latest value of the\n",
    "# lower extreme 'a' is calculated and saved as 'sfa'.\n",
    "# 'a' is the current value of the lower bound,'f()' evaluates\n",
    "# the function 'f' at that value, and 'sign' calculates the\n",
    "# sign of that value.\n",
    "sfa = np.sign( f( a ) )\n",
    "\n",
    "# A 'for' loop is created.\n",
    "# For index ii ranging from 0, in increments of 1, up to the\n",
    "# maximum number of iterations minus one (Nmax-1),\n",
    "for ii in range(0,Nmax):\n",
    "   \n",
    "   # The new approximation 'p(ii)' to the root is\n",
    "   # calculated as the midpoint of the interval and\n",
    "   # is stored in the array 'p'.\n",
    "   p[ii] = a + (b-a)/2\n",
    "   \n",
    "   # If the interval b-a is less than twice the tolerance\n",
    "   # 'epsilon', then the convergence tolerance has been met,\n",
    "   if ( (b-a) < (2*epsilon) ):\n",
    "      \n",
    "      # in which case the final estimate of the root is printed,\n",
    "      # (Note that a line break '\\' is used here inside the \n",
    "      # parentheses of the function 'print' and the following\n",
    "      # line is indented, so that the code when printed will not\n",
    "      # extend off the page.)\n",
    "      print(\"Root Estimate #{0:d}: p({1:d}) = \\\n",
    "            {2:10.9e}\".format(ii+1,ii+1,p[ii]))\n",
    "      \n",
    "      # and a message is printed to state that the convergence\n",
    "      # tolerance has been met.\n",
    "      print(\"The convergence tolerance has been met.\")\n",
    "      \n",
    "      # and the 'for' loop is exited\n",
    "      break\n",
    "   \n",
    "   # The value of the current root estimate is printed.\n",
    "   print(\"Root Estimate #{0:d}: p({1:d}) = \\\n",
    "         {2:10.9e}\".format(ii+1,ii+1,p[ii]))\n",
    "   \n",
    "   # Save the sign of f(p) as 'sfp'\n",
    "   sfp = np.sign( f( p[ii] ) );\n",
    "   \n",
    "   # If the product of the two signs is less than zero,\n",
    "   if ( (sfa*sfp) < 0.0 ):\n",
    "      \n",
    "      # then the signs of sfa and sfp are different and the new\n",
    "      # interval will be (a,p), so the current 'p' becomes the new 'b'.\n",
    "      b = p[ii]\n",
    "      \n",
    "   # otherwise (if the product of the two signs is not less than zero,)\n",
    "   else:\n",
    "      \n",
    "      # the new interval will be (p,b), so the value of the current\n",
    "      # 'p' becomes the new 'a'.\n",
    "      a = p[ii]\n",
    "      \n",
    "      # and the sign of the current 'p', sfp, becomes the new sign of\n",
    "      # the new 'a', 'sfa'.\n",
    "      sfa = sfp\n",
    "\n",
    "# Noting that 'range(0,Nmax)' will iterate ii from 0 to Nmax-1,\n",
    "# The maximum number of iterations will be met when ii=Nmax-1.\n",
    "# If the maximum number of iterations has been met,\n",
    "if (ii >= (Nmax-1)):\n",
    "   \n",
    "   # A message is printed.\n",
    "   print(\"The maximum number of {0:1d} iterations \\\n",
    "         has been met.\".format(Nmax))"
   ]
  },
  {
   "cell_type": "markdown",
   "metadata": {},
   "source": [
    "Now, we verify that each approximation satifies the theoretical error bound of the bisection method, but the actual errors do not steadily decrease."
   ]
  },
  {
   "cell_type": "code",
   "execution_count": 25,
   "metadata": {},
   "outputs": [
    {
     "name": "stdout",
     "output_type": "stream",
     "text": [
      "**Error Printout**\n",
      "\n",
      "Error Estimate #1: err(1) = 2.320508076e-01         satifies the theoretical error bound.\n",
      "Error Estimate #2: err(2) = 1.794919243e-02         satifies the theoretical error bound.\n",
      "Error Estimate #3: err(3) = 1.070508076e-01         satifies the theoretical error bound.\n",
      "Error Estimate #4: err(4) = 4.455080757e-02         satifies the theoretical error bound.\n",
      "Error Estimate #5: err(5) = 1.330080757e-02         satifies the theoretical error bound.\n"
     ]
    }
   ],
   "source": [
    "print('**Error Printout**\\n')\n",
    "error_pb1 = np.zeros(Nmax)\n",
    "error_pb1.fill(np.nan)\n",
    "for ind, pact in enumerate(p):\n",
    "    error_pb1[ind] = np.abs(pact - np.sqrt(3))\n",
    "    if (error_pb1[ind] <= (2-1)/(2**(ind+1))):\n",
    "        print(\"Error Estimate #{0:d}: err({1:d}) = {2:10.9e} \\\n",
    "        satifies the theoretical error bound.\".format(ind+1,ind+1,error_pb1[ind]))\n",
    "    else:\n",
    "        print(\"Error Estimate #{0:d}: err({1:d}) = {2:10.9e} \\\n",
    "        does not satisfy the theoretical error bound.\".format(ind+1,ind+1,error_pb1[ind]))"
   ]
  },
  {
   "cell_type": "markdown",
   "metadata": {},
   "source": [
    "From error list shown above, we can easily conclude that for the first 5 iterations each approximation satifies the theoretical error bound of the bisection method, but that the actual errors do not steadily decrease."
   ]
  },
  {
   "cell_type": "markdown",
   "metadata": {},
   "source": [
    "## Problem 2\n",
    "Verify that the function $f(x) = x^6 - 3$ has a zero on the interval $(1,2)$. Next, perform the first five iterations of the bisection method and verify that each approximation satisfies the theoretical error bound of the bisection method.\n",
    "\n",
    "Solution: The function f(x) is plotted below:"
   ]
  },
  {
   "cell_type": "code",
   "execution_count": 26,
   "metadata": {},
   "outputs": [
    {
     "data": {
      "image/png": "[encoded data removed]",
      "text/plain": [
       "<matplotlib.figure.Figure at 0x7f69ea28bc88>"
      ]
     },
     "metadata": {},
     "output_type": "display_data"
    }
   ],
   "source": [
    "# set discrete x variables\n",
    "x2 = np.linspace(1,2,201)\n",
    "# evaluate function f(x) and h(x)\n",
    "f2 = x2**6 - 3\n",
    "h2 = np.zeros(x2.shape)\n",
    "# plot f and h\n",
    "plt.plot(x2,f2,\"r\")\n",
    "plt.plot(x2,h2,\"b\")\n",
    "# Axes and a legend are added\n",
    "red_patch = mpatches.Patch(color='red',label='f(x)=x^6-3')\n",
    "blue_patch = mpatches.Patch(color='blue',label='h(x)=0')\n",
    "plt.legend(handles=[red_patch,blue_patch])\n",
    "plt.xlabel('x')\n",
    "plt.ylabel('f(x)')\n",
    "plt.show()"
   ]
  },
  {
   "cell_type": "markdown",
   "metadata": {},
   "source": [
    "It is easily verified there is a zero in $(1,2)$. Next perform the first 5 iterations of bisection method to verify each approximation satifies the theoretical error bound. Also, $f(1) = -2 < 0$ and $f(2) = 61 > 0$, this means zero points exists in $(1,2)$."
   ]
  },
  {
   "cell_type": "code",
   "execution_count": 27,
   "metadata": {},
   "outputs": [
    {
     "name": "stdout",
     "output_type": "stream",
     "text": [
      "**ME581 Homework Printout**\n",
      "\n",
      "The Bisection Method is applied to calculate\n",
      "an estimate of the root p of the function\n",
      "f(x)=x^6-3 in the range (1,2):\n",
      "\n",
      "Root Estimate #1: p(1) =          1.500000000e+00\n",
      "Root Estimate #2: p(2) =          1.250000000e+00\n",
      "Root Estimate #3: p(3) =          1.125000000e+00\n",
      "Root Estimate #4: p(4) =          1.187500000e+00\n",
      "Root Estimate #5: p(5) =          1.218750000e+00\n",
      "The maximum number of 5 iterations          has been met.\n",
      "\n",
      "**Error Printout**\n",
      "\n",
      "Error Estimate #1: err(1) = 2.990630448e-01         satifies the theoretical error bound.\n",
      "Error Estimate #2: err(2) = 4.906304482e-02         satifies the theoretical error bound.\n",
      "Error Estimate #3: err(3) = 7.593695518e-02         satifies the theoretical error bound.\n",
      "Error Estimate #4: err(4) = 1.343695518e-02         satifies the theoretical error bound.\n",
      "Error Estimate #5: err(5) = 1.781304482e-02         satifies the theoretical error bound.\n"
     ]
    }
   ],
   "source": [
    "# This script applies the Bisection Method to\n",
    "# determine the zero of the function\n",
    "# f(x)=x^3+x^2-3*x-3 in the range (1,2).\n",
    "\n",
    "# An Introduction is printed\n",
    "print('**ME581 Homework Printout**\\n');\n",
    "print('The Bisection Method is applied to calculate')\n",
    "print('an estimate of the root ''p'' of the function');\n",
    "print('f(x)=x^6-3 in the range (1,2):\\n');\n",
    "\n",
    "# Given: The function 'f' is redefined here and\n",
    "# may be used in the manner f(1)=-1.\n",
    "def f2(x):\n",
    "    var=x**6.0-3.0\n",
    "    return var\n",
    "\n",
    "# The left- and right-endpoints of the initial interval are\n",
    "# defined as 'a' and 'b'.\n",
    "a2 = 1\n",
    "b2 = 2\n",
    "\n",
    "# A convergence tolerance 'epsilon' is chosen and defined.\n",
    "epsilon2 = 0.0001\n",
    "\n",
    "# A maximum number of iterations is chosen and defined.\n",
    "# This will be used to exit the script if the maximum\n",
    "# number of iterations is exceeded.\n",
    "Nmax2 = 5\n",
    "\n",
    "# An Nmax-by-1 array of NaNs (Not-a-Number) is created to\n",
    "# store the approximations 'p(ii)' for each iteration 'ii'\n",
    "p2 = np.zeros(Nmax2)\n",
    "p2.fill(np.nan)\n",
    "\n",
    "# An index is created to keep track of the iteration number.\n",
    "ii2 = 1\n",
    "\n",
    "# The sign of the function f(x) at the latest value of the\n",
    "# lower extreme 'a' is calculated and saved as 'sfa'.\n",
    "# 'a' is the current value of the lower bound,'f()' evaluates\n",
    "# the function 'f' at that value, and 'sign' calculates the\n",
    "# sign of that value.\n",
    "sfa2 = np.sign( f2( a2 ) )\n",
    "\n",
    "# A 'for' loop is created.\n",
    "# For index ii ranging from 0, in increments of 1, up to the\n",
    "# maximum number of iterations minus one (Nmax-1),\n",
    "for ii2 in range(0,Nmax2):\n",
    "   \n",
    "   # The new approximation 'p(ii)' to the root is\n",
    "   # calculated as the midpoint of the interval and\n",
    "   # is stored in the array 'p'.\n",
    "   p2[ii2] = a2 + (b2-a2)/2\n",
    "   \n",
    "   # If the interval b-a is less than twice the tolerance\n",
    "   # 'epsilon', then the convergence tolerance has been met,\n",
    "   if ( (b2-a2) < (2*epsilon2) ):\n",
    "      \n",
    "      # in which case the final estimate of the root is printed,\n",
    "      # (Note that a line break '\\' is used here inside the \n",
    "      # parentheses of the function 'print' and the following\n",
    "      # line is indented, so that the code when printed will not\n",
    "      # extend off the page.)\n",
    "      print(\"Root Estimate #{0:d}: p({1:d}) = \\\n",
    "            {2:10.9e}\".format(ii2+1,ii2+1,p2[ii2]))\n",
    "      \n",
    "      # and a message is printed to state that the convergence\n",
    "      # tolerance has been met.\n",
    "      print(\"The convergence tolerance has been met.\")\n",
    "      \n",
    "      # and the 'for' loop is exited\n",
    "      break\n",
    "   \n",
    "   # The value of the current root estimate is printed.\n",
    "   print(\"Root Estimate #{0:d}: p({1:d}) = \\\n",
    "         {2:10.9e}\".format(ii2+1,ii2+1,p2[ii2]))\n",
    "   \n",
    "   # Save the sign of f(p) as 'sfp'\n",
    "   sfp2 = np.sign( f2( p2[ii2] ) );\n",
    "   \n",
    "   # If the product of the two signs is less than zero,\n",
    "   if ( (sfa2*sfp2) < 0.0 ):\n",
    "      \n",
    "      # then the signs of sfa and sfp are different and the new\n",
    "      # interval will be (a,p), so the current 'p' becomes the new 'b'.\n",
    "      b2 = p2[ii2]\n",
    "      \n",
    "   # otherwise (if the product of the two signs is not less than zero,)\n",
    "   else:\n",
    "      \n",
    "      # the new interval will be (p,b), so the value of the current\n",
    "      # 'p' becomes the new 'a'.\n",
    "      a2 = p2[ii2]\n",
    "      \n",
    "      # and the sign of the current 'p', sfp, becomes the new sign of\n",
    "      # the new 'a', 'sfa'.\n",
    "      sfa2 = sfp2\n",
    "\n",
    "# Noting that 'range(0,Nmax)' will iterate ii from 0 to Nmax-1,\n",
    "# The maximum number of iterations will be met when ii=Nmax-1.\n",
    "# If the maximum number of iterations has been met,\n",
    "if (ii2 >= (Nmax2-1)):\n",
    "   \n",
    "   # A message is printed.\n",
    "   print(\"The maximum number of {0:1d} iterations \\\n",
    "         has been met.\\n\".format(Nmax2))\n",
    "print('**Error Printout**\\n')\n",
    "error_pb2 = np.zeros(Nmax2)\n",
    "error_pb2.fill(np.nan)\n",
    "for ind2, pact2 in enumerate(p2):\n",
    "    error_pb2[ind2] = np.abs(pact2 - 3**(1.0/6))\n",
    "    if (error_pb2[ind2] <= (2-1)/(2**(ind2+1))):\n",
    "        print(\"Error Estimate #{0:d}: err({1:d}) = {2:10.9e} \\\n",
    "        satifies the theoretical error bound.\".format(ind2+1,ind2+1,error_pb2[ind2]))\n",
    "    else:\n",
    "        print(\"Error Estimate #{0:d}: err({1:d}) = {2:10.9e} \\\n",
    "        does not satisfy the theoretical error bound.\".format(ind2+1,ind2+1,error_pb2[ind2]))"
   ]
  },
  {
   "cell_type": "markdown",
   "metadata": {},
   "source": [
    "It is obvious that each approximation satisfies the theoretical error bound of the bisection method."
   ]
  },
  {
   "cell_type": "markdown",
   "metadata": {},
   "source": [
    "## Problem 3\n",
    "Approximate $\\tfrac{1}{37}$ to five significant decimal places by applying the bisection method to the equation $\\tfrac{1}{x}-37=0$. Include plots of the following:\n",
    "\n",
    "   a) Approximate Root vs Iteration Number\n",
    "    \n",
    "   b) Absolute Error vs. Iteration Number.\n",
    "\n",
    "Solution: We can easily verify the solution lies in the interval $(0.02,0.05)$."
   ]
  },
  {
   "cell_type": "code",
   "execution_count": 28,
   "metadata": {},
   "outputs": [
    {
     "name": "stdout",
     "output_type": "stream",
     "text": [
      "**ME581 Homework Printout**\n",
      "\n",
      "The bisection Method is applied to estimate 1/37\n",
      "Root Estimate #1: p(1) =          0.03500\n",
      "Root Estimate #2: p(2) =          0.02750\n",
      "Root Estimate #3: p(3) =          0.02375\n",
      "Root Estimate #4: p(4) =          0.02563\n",
      "Root Estimate #5: p(5) =          0.02656\n",
      "Root Estimate #6: p(6) =          0.02703\n",
      "Root Estimate #7: p(7) =          0.02680\n",
      "Root Estimate #8: p(8) =          0.02691\n",
      "Root Estimate #9: p(9) =          0.02697\n",
      "Root Estimate #10: p(10) =          0.02700\n",
      "Root Estimate #11: p(11) =          0.02702\n",
      "Root Estimate #12: p(12) =          0.02702\n",
      "Root Estimate #13: p(13) =             0.02703\n",
      "The convergence tolerance has been met.\n",
      "**Error Printout**\n",
      "\n",
      "Error Estimate #1: err(1) = 0.00797\n",
      "Error Estimate #2: err(2) = 0.00047\n",
      "Error Estimate #3: err(3) = 0.00328\n",
      "Error Estimate #4: err(4) = 0.00140\n",
      "Error Estimate #5: err(5) = 0.00046\n",
      "Error Estimate #6: err(6) = 0.00000\n",
      "Error Estimate #7: err(7) = 0.00023\n",
      "Error Estimate #8: err(8) = 0.00011\n",
      "Error Estimate #9: err(9) = 0.00005\n",
      "Error Estimate #10: err(10) = 0.00003\n",
      "Error Estimate #11: err(11) = 0.00001\n",
      "Error Estimate #12: err(12) = 0.00000\n",
      "Error Estimate #13: err(13) = 0.00000\n"
     ]
    }
   ],
   "source": [
    "print('**ME581 Homework Printout**\\n')\n",
    "print('The bisection Method is applied to estimate 1/37')\n",
    "def f3(x):\n",
    "    var = 1.0/x - 37.0\n",
    "    return var\n",
    "a3 = 0.02\n",
    "b3 = 0.05\n",
    "epsilon3 = 0.000005\n",
    "Nmax3 = 20\n",
    "p3 = np.zeros(Nmax3)\n",
    "p3.fill(np.nan)\n",
    "ii3 = 1\n",
    "sfa3 = np.sign( f3( a3 ) )\n",
    "for ii3 in range(0,Nmax3):\n",
    "   p3[ii3] = a3 + (b3-a3)/2\n",
    "   if ( (b3-a3) < (2*epsilon3) ):\n",
    "      print(\"Root Estimate #{0:d}: p({1:d}) = \\\n",
    "            {2:6.5f}\".format(ii3+1,ii3+1,p3[ii3]))\n",
    "      print(\"The convergence tolerance has been met.\")\n",
    "      break\n",
    "   print(\"Root Estimate #{0:d}: p({1:d}) = \\\n",
    "         {2:6.5f}\".format(ii3+1,ii3+1,p3[ii3]))\n",
    "   sfp3 = np.sign( f3( p3[ii3] ) );\n",
    "   if ( (sfa3*sfp3) < 0.0 ):\n",
    "      b3 = p3[ii3]\n",
    "   else:\n",
    "      a3 = p3[ii3]\n",
    "      sfa3 = sfp3\n",
    "if (ii3 >= (Nmax3-1)):\n",
    "   print(\"The maximum number of {0:1d} iterations \\\n",
    "         has been met.\\n\".format(Nmax3))\n",
    "print('**Error Printout**\\n')\n",
    "error_pb3 = np.zeros(ii3+1)\n",
    "error_pb3.fill(np.nan)\n",
    "for ind3, pact3 in enumerate(p3[0:ii3+1]):\n",
    "    error_pb3[ind3] = np.abs(pact3 - 1.0/37.0)\n",
    "    print(\"Error Estimate #{0:d}: err({1:d}) = {2:6.5f}\".format(ind3+1,ind3+1,error_pb3[ind3]))"
   ]
  },
  {
   "cell_type": "markdown",
   "metadata": {},
   "source": [
    "The approximate roots and errors are shown above."
   ]
  },
  {
   "cell_type": "markdown",
   "metadata": {},
   "source": [
    "## Problem 4\n",
    "The equation $x^7=3$ has a root on the interval $(1,2)$, namely $x=\\sqrt[7]{3}$.\n",
    "\n",
    "   a) Perform five iterations of Newton's method.\n",
    "\n",
    "   b) For $n\\ge 1$, compare $|p_n - p_{n-1}|$ with $|p_{n-1} - p|$ and $|p_{n} - p|$.\n",
    "\n",
    "   c) For $n\\ge 1$, compute the ratio $|p_n - p|/|p_{n-1} - p|^2$ and show that this value approaches $|{f}''(p)/2{f}'(p)|$.\n",
    "   \n",
    "Solution: The iteration using Newton's method is shown below: $f(x) = x^7-3$"
   ]
  },
  {
   "cell_type": "code",
   "execution_count": 29,
   "metadata": {},
   "outputs": [
    {
     "name": "stdout",
     "output_type": "stream",
     "text": [
      "**ME581 Homework Printout**\n",
      "\n",
      "Newton's method is applied to solve x^7 = 3\n",
      "Root Estimate #1: p(1) =         1.72098\n",
      "Root Estimate #2: p(2) =         1.49162\n",
      "Root Estimate #3: p(3) =         1.31744\n",
      "Root Estimate #4: p(4) =         1.21120\n",
      "Root Estimate #5: p(5) =         1.17392\n",
      "Root Estimate #6: p(6) =         1.16997\n",
      "Root Estimate #7: p(7) =         1.16993\n",
      "The maximum number of 7 iterations     has been met.\n",
      "\n",
      "**Error Printout**\n",
      "\n",
      "Error Estimate #1: |p1-p0|     = 0.27902, |p0-p|     = 0.83007, |p1-p|     = 0.55105\n",
      "Error Estimate #2: |p2-p1|     = 0.22936, |p1-p|     = 0.55105, |p2-p|     = 0.32169\n",
      "Error Estimate #3: |p3-p2|     = 0.17418, |p2-p|     = 0.32169, |p3-p|     = 0.14751\n",
      "Error Estimate #4: |p4-p3|     = 0.10624, |p3-p|     = 0.14751, |p4-p|     = 0.04127\n",
      "Error Estimate #5: |p5-p4|     = 0.03729, |p4-p|     = 0.04127, |p5-p|     = 0.00399\n",
      "Error Estimate #6: |p6-p5|     = 0.00395, |p5-p|     = 0.00399, |p6-p|     = 0.00004\n",
      "Error Estimate #7: |p7-p6|     = 0.00004, |p6-p|     = 0.00004, |p7-p|     = 0.00000\n"
     ]
    }
   ],
   "source": [
    "print('**ME581 Homework Printout**\\n')\n",
    "print('Newton\\'s method is applied to solve x^7 = 3')\n",
    "# function and derivative is given\n",
    "def f4(x):\n",
    "    var = x**7.0 - 3.0\n",
    "    return var\n",
    "def df4(x):\n",
    "    var = 7.0*x**6.0\n",
    "    return var\n",
    "epsilon4 = 0.000001\n",
    "Nmax4 = 7\n",
    "# array to save iterated values\n",
    "p4 = np.zeros(Nmax4+1)\n",
    "# array to save error\n",
    "err41 = np.zeros(Nmax4)\n",
    "err42 = np.zeros(Nmax4+1)\n",
    "# set the initial iterated value\n",
    "p4[0] = 2\n",
    "err42[0] = np.abs(p4[0]-3.0**(1.0/7))\n",
    "# now begin iteration\n",
    "for ind4 in range(0,Nmax4):\n",
    "    if (df4(p4[ind4]) == 0.0):\n",
    "        print('Choose another starting point')\n",
    "        break\n",
    "    else:\n",
    "        p4[ind4+1] = p4[ind4] - f4(p4[ind4])/df4(p4[ind4])\n",
    "        err41[ind4] = np.abs(p4[ind4+1] - p4[ind4])\n",
    "        err42[ind4+1] = np.abs(p4[ind4+1] - 3.0**(1.0/7))\n",
    "        if (err41[ind4] < (2*epsilon4)):\n",
    "            print(\"Root Estimate #{0:1d}: p({1:1d}) = \\\n",
    "            {2:6.5f}\".format(ind4+1,ind4+1,p4[ind4+1]))\n",
    "            print(\"The convergence tolerance has been met\")\n",
    "            break\n",
    "        print(\"Root Estimate #{0:1d}: p({1:1d}) = \\\n",
    "        {2:6.5f}\".format(ind4+1,ind4+1,p4[ind4+1]))\n",
    "if (ind4 >= (Nmax4-1)):\n",
    "    print('The maximum number of {0:1d} iterations \\\n",
    "    has been met.\\n'.format(Nmax4))\n",
    "print('**Error Printout**\\n')\n",
    "for ii4 in range(0,Nmax4):\n",
    "    print(\"Error Estimate #{0:1d}: |p{1:d}-p{2:d}| \\\n",
    "    = {3:6.5f}, |p{4:d}-p| \\\n",
    "    = {5:6.5f}, |p{6:d}-p| \\\n",
    "    = {7:6.5f}\".format(ii4+1,ii4+1,ii4,err41[ii4],ii4,err42[ii4],ii4+1,err42[ii4+1]))"
   ]
  },
  {
   "cell_type": "markdown",
   "metadata": {},
   "source": [
    "The first 5 iterations of Newton's method is shown above. From three different representations of error expressions, we can see the actual error converges to zero, the contigent difference of errors form a sequence also converge to zero. This is given by the fact: when error sequence converges, the Cauchy sequence generated by the error sequence also converges. Using values we got above, we can evalute c) part."
   ]
  },
  {
   "cell_type": "code",
   "execution_count": 30,
   "metadata": {},
   "outputs": [
    {
     "name": "stdout",
     "output_type": "stream",
     "text": [
      "the ratio |p1-p|/|p0-p|^2 =     0.79977\n",
      "the ratio |p2-p|/|p1-p|^2 =     1.05939\n",
      "the ratio |p3-p|/|p2-p|^2 =     1.42545\n",
      "the ratio |p4-p|/|p3-p|^2 =     1.89669\n",
      "the ratio |p5-p|/|p4-p|^2 =     2.34090\n",
      "the ratio |p6-p|/|p5-p|^2 =     2.54113\n",
      "the ratio |p7-p|/|p6-p|^2 =     2.56402\n",
      "the approached value is: |f''(p)/2f'(p)| = 2.56425\n"
     ]
    }
   ],
   "source": [
    "# compute the approached value\n",
    "val4 = np.abs(42.0*(3.0**(5.0/7))/(2.0*df4(3.0**(1.0/7))))\n",
    "# compute the sequence of the ratio\n",
    "for iii4 in range(0,Nmax4):\n",
    "    print(\"the ratio |p{0:d}-p|/|p{1:d}-p|^2 = \\\n",
    "    {2:6.5f}\".format(iii4+1,iii4,err42[iii4+1]/(err42[iii4]**2)))\n",
    "print(\"the approached value is: |f''(p)/2f'(p)| = {0:6.5f}\".format(val4))"
   ]
  },
  {
   "cell_type": "markdown",
   "metadata": {},
   "source": [
    "## Problem 5\n",
    "For each of the functions given below, use the Newton's method algorithm to approximate all real roots. Use an absolute tolerance of $10^{-6}$ as a stopping condition. For each of the roots plot the logarithm of the absolute error $|e_n|$ at each iteration n against the logarithm of the absolute error at the previous iteration, and use this plot to calculate the order of convergence. Use these plots to comment on the convergence behavior of Newton's method.\n",
    "\n",
    "a) $f(x) = e^x + x^2 - x - 4$\n",
    "\n",
    "b) $f(x) = x^3 - x^2 - 10x + 7$\n",
    "\n",
    "c) $f(x) = 1.05 - 1.04x + ln(x)$"
   ]
  },
  {
   "cell_type": "markdown",
   "metadata": {},
   "source": [
    "Solution: a) Apply Newton's method to the first function, by plotting the figure of function, we can easily verify there exists two zeros for this function, we choose starting point to be -2 and 2 respectively."
   ]
  },
  {
   "cell_type": "code",
   "execution_count": 31,
   "metadata": {},
   "outputs": [
    {
     "name": "stdout",
     "output_type": "stream",
     "text": [
      "**ME581 Homework Printout**\n",
      "\n",
      "Newton's method is applied to function f(x)=e^x+x^2-x-4\n",
      "\n",
      "\n",
      "Iteration from starting point p0=2.0\n",
      "Root Estimate #1: p(1) =             1.481276, starting point 2.0\n",
      "Root Estimate #2: p(2) =             1.306549, starting point 2.0\n",
      "Root Estimate #3: p(3) =             1.288849, starting point 2.0\n",
      "Root Estimate #4: p(4) =             1.288678, starting point 2.0\n",
      "Root Estimate #5: p(5) =                 1.288678, starting point p0=2.0\n",
      "The convergence tolerance has been met\n",
      "The maximum number of 5 iterations         has been met.\n",
      "\n",
      "**Error Printout**\n",
      "\n",
      "Error Estimate #1: |p1-p0|         = 0.518724, starting point p0=2.0\n",
      "Error Estimate #2: |p2-p1|         = 0.174727, starting point p0=2.0\n",
      "Error Estimate #3: |p3-p2|         = 0.017700, starting point p0=2.0\n",
      "Error Estimate #4: |p4-p3|         = 0.000171, starting point p0=2.0\n",
      "Error Estimate #5: |p5-p4|         = 0.000000, starting point p0=2.0\n"
     ]
    },
    {
     "data": {
      "image/png": "[encoded data removed]",
      "text/plain": [
       "<matplotlib.figure.Figure at 0x7f69e9ebbc88>"
      ]
     },
     "metadata": {},
     "output_type": "display_data"
    },
    {
     "name": "stdout",
     "output_type": "stream",
     "text": [
      "\n",
      "\n",
      "Iteration from starting point p0=-2.0\n",
      "Root Estimate #1: p(1) =             -1.561052, starting point -2.0\n",
      "Root Estimate #2: p(2) =             -1.507923, starting point -2.0\n",
      "Root Estimate #3: p(3) =             -1.507100, starting point -2.0\n",
      "Root Estimate #4: p(4) =                 -1.507099, starting point p0=-2.0\n",
      "The convergence tolerance has been met\n",
      "**Error Printout**\n",
      "\n",
      "Error Estimate #1: |p1-p0|         = 0.438948, starting point p0=-2.0\n",
      "Error Estimate #2: |p2-p1|         = 0.053129, starting point p0=-2.0\n",
      "Error Estimate #3: |p3-p2|         = 0.000823, starting point p0=-2.0\n",
      "Error Estimate #4: |p4-p3|         = 0.000000, starting point p0=-2.0\n",
      "Error Estimate #5: |p5-p4|         = 0.000000, starting point p0=-2.0\n"
     ]
    },
    {
     "name": "stderr",
     "output_type": "stream",
     "text": [
      "/apps/share64/debian7/anaconda/anaconda3-4.4/lib/python3.6/site-packages/ipykernel_launcher.py:48: RuntimeWarning: divide by zero encountered in log\n"
     ]
    },
    {
     "data": {
      "image/png": "[encoded data removed]",
      "text/plain": [
       "<matplotlib.figure.Figure at 0x7f69e9ed31d0>"
      ]
     },
     "metadata": {},
     "output_type": "display_data"
    }
   ],
   "source": [
    "print('**ME581 Homework Printout**\\n')\n",
    "print('Newton\\'s method is applied to function f(x)=e^x+x^2-x-4')\n",
    "# function and derivative is given\n",
    "def f51(x):\n",
    "    var = np.exp(x) + x**2.0 - x - 4.0\n",
    "    return var\n",
    "def df51(x):\n",
    "    var = np.exp(x) + 2.0*x - 1.0\n",
    "    return var\n",
    "epsilon51 = 1.0e-6\n",
    "Nmax51 = 5\n",
    "# array to save iterated values\n",
    "p51 = np.zeros([2,Nmax51+1])\n",
    "# array to save error\n",
    "err51 = np.zeros([2,Nmax51])\n",
    "#err42 = np.zeros(Nmax4+1)\n",
    "# set the initial iterated value\n",
    "p51[0][0] = 2.0\n",
    "p51[1][0] = -2.0\n",
    "#err42[0] = np.abs(p4[0]-3.0**(1.0/7))\n",
    "# now begin iteration\n",
    "for i51 in range(2):\n",
    "    print('\\n')\n",
    "    print(\"Iteration from starting point p0={0:2.1f}\".format(p51[i51][0]))\n",
    "    for ind51 in range(0,Nmax51):\n",
    "        if (df51(p51[i51][ind51]) == 0.0):\n",
    "            print('Choose another starting point')\n",
    "            break\n",
    "        else:\n",
    "            p51[i51][ind51+1] = p51[i51][ind51] - f51(p51[i51][ind51])/df51(p51[i51][ind51])\n",
    "            err51[i51][ind51] = np.abs(p51[i51][ind51+1] - p51[i51][ind51])\n",
    "            #err42[ind4+1] = np.abs(p4[ind4+1] - 3.0**(1.0/7))\n",
    "            if (err51[i51][ind51] < (2*epsilon51)):\n",
    "                print(\"Root Estimate #{0:1d}: p({1:1d}) = \\\n",
    "                {2:7.6f}, starting point p0={3:2.1f}\".format(ind51+1,ind51+1,p51[i51][ind51+1],p51[i51][0]))\n",
    "                print(\"The convergence tolerance has been met\")\n",
    "                break\n",
    "            print(\"Root Estimate #{0:1d}: p({1:1d}) = \\\n",
    "            {2:7.6f}, starting point {3:2.1f}\".format(ind51+1,ind51+1,p51[i51][ind51+1],p51[i51][0]))\n",
    "    if (ind51 >= (Nmax51-1)):\n",
    "        print('The maximum number of {0:1d} iterations \\\n",
    "        has been met.\\n'.format(Nmax51))\n",
    "    print('**Error Printout**\\n')\n",
    "    for ii51 in range(0,Nmax51):\n",
    "        print(\"Error Estimate #{0:1d}: |p{1:d}-p{2:d}| \\\n",
    "        = {3:7.6f}, starting point p0={4:2.1f}\".format(ii51+1,ii51+1,ii51,err51[i51][ii51],p51[i51][0]))\n",
    "    # plot the log error figure\n",
    "    plt.figure(i51+1)\n",
    "    plt.plot(np.log(err51[i51][:-1]),np.log(err51[i51][1:]),\"X\")\n",
    "    plt.show()    \n",
    "        "
   ]
  },
  {
   "cell_type": "markdown",
   "metadata": {
    "collapsed": true
   },
   "source": [
    "Approximate the slope of the logrithm error plot, we can conclude the order of convergence is 2.\n",
    "\n",
    "b) Now we use the similar method to process function $f(x) = x^3 - x^2 -10x + 7$. From plots of this function, we can easily verify it has three zeros, we set the initial iterated values to be -3, 0, 4 respectively."
   ]
  },
  {
   "cell_type": "code",
   "execution_count": 32,
   "metadata": {},
   "outputs": [
    {
     "name": "stdout",
     "output_type": "stream",
     "text": [
      "**ME581 Homework Printout**\n",
      "\n",
      "Newton's method is applied to function f(x)=x^3-x^2-10x+7\n",
      "\n",
      "\n",
      "Iteration from starting point p0=-3.0\n",
      "Root Estimate #1: p(1) =             -3.043478, starting point -3.0\n",
      "Root Estimate #2: p(2) =             -3.042683, starting point -3.0\n",
      "Root Estimate #3: p(3) =                 -3.042683, starting point p0=-3.0\n",
      "The convergence tolerance has been met\n",
      "**Error Printout**\n",
      "\n",
      "Error Estimate #1: |p1-p0|         = 0.043478, starting point p0=-3.0\n",
      "Error Estimate #2: |p2-p1|         = 0.000795, starting point p0=-3.0\n",
      "Error Estimate #3: |p3-p2|         = 0.000000, starting point p0=-3.0\n",
      "Error Estimate #4: |p4-p3|         = 0.000000, starting point p0=-3.0\n",
      "Error Estimate #5: |p5-p4|         = 0.000000, starting point p0=-3.0\n"
     ]
    },
    {
     "name": "stderr",
     "output_type": "stream",
     "text": [
      "/apps/share64/debian7/anaconda/anaconda3-4.4/lib/python3.6/site-packages/ipykernel_launcher.py:49: RuntimeWarning: divide by zero encountered in log\n"
     ]
    },
    {
     "data": {
      "image/png": "[encoded data removed]",
      "text/plain": [
       "<matplotlib.figure.Figure at 0x7f69ea261d68>"
      ]
     },
     "metadata": {},
     "output_type": "display_data"
    },
    {
     "name": "stdout",
     "output_type": "stream",
     "text": [
      "\n",
      "\n",
      "Iteration from starting point p0=0.0\n",
      "Root Estimate #1: p(1) =             0.700000, starting point 0.0\n",
      "Root Estimate #2: p(2) =             0.685196, starting point 0.0\n",
      "Root Estimate #3: p(3) =             0.685220, starting point 0.0\n",
      "Root Estimate #4: p(4) =                 0.685220, starting point p0=0.0\n",
      "The convergence tolerance has been met\n",
      "**Error Printout**\n",
      "\n",
      "Error Estimate #1: |p1-p0|         = 0.700000, starting point p0=0.0\n",
      "Error Estimate #2: |p2-p1|         = 0.014804, starting point p0=0.0\n",
      "Error Estimate #3: |p3-p2|         = 0.000024, starting point p0=0.0\n",
      "Error Estimate #4: |p4-p3|         = 0.000000, starting point p0=0.0\n",
      "Error Estimate #5: |p5-p4|         = 0.000000, starting point p0=0.0\n"
     ]
    },
    {
     "data": {
      "image/png": "[encoded data removed]",
      "text/plain": [
       "<matplotlib.figure.Figure at 0x7f69e9eed898>"
      ]
     },
     "metadata": {},
     "output_type": "display_data"
    },
    {
     "name": "stdout",
     "output_type": "stream",
     "text": [
      "\n",
      "\n",
      "Iteration from starting point p0=4.0\n",
      "Root Estimate #1: p(1) =             3.500000, starting point 4.0\n",
      "Root Estimate #2: p(2) =             3.367089, starting point 4.0\n",
      "Root Estimate #3: p(3) =             3.357511, starting point 4.0\n",
      "Root Estimate #4: p(4) =             3.357463, starting point 4.0\n",
      "Root Estimate #5: p(5) =                 3.357463, starting point p0=4.0\n",
      "The convergence tolerance has been met\n",
      "The maximum number of 5 iterations         has been met.\n",
      "\n",
      "**Error Printout**\n",
      "\n",
      "Error Estimate #1: |p1-p0|         = 0.500000, starting point p0=4.0\n",
      "Error Estimate #2: |p2-p1|         = 0.132911, starting point p0=4.0\n",
      "Error Estimate #3: |p3-p2|         = 0.009577, starting point p0=4.0\n",
      "Error Estimate #4: |p4-p3|         = 0.000049, starting point p0=4.0\n",
      "Error Estimate #5: |p5-p4|         = 0.000000, starting point p0=4.0\n"
     ]
    },
    {
     "data": {
      "image/png": "[encoded data removed]",
      "text/plain": [
       "<matplotlib.figure.Figure at 0x7f69ea2b5240>"
      ]
     },
     "metadata": {},
     "output_type": "display_data"
    }
   ],
   "source": [
    "print('**ME581 Homework Printout**\\n')\n",
    "print('Newton\\'s method is applied to function f(x)=x^3-x^2-10x+7')\n",
    "# function and derivative is given\n",
    "def f52(x):\n",
    "    var = x**3.0 - x**2.0 - 10*x + 7\n",
    "    return var\n",
    "def df52(x):\n",
    "    var = 3.0*x**2.0 - 2.0*x - 10\n",
    "    return var\n",
    "epsilon52 = 1.0e-6\n",
    "Nmax52 = 5\n",
    "# array to save iterated values\n",
    "p52 = np.zeros([3,Nmax52+1])\n",
    "# array to save error\n",
    "err52 = np.zeros([3,Nmax52])\n",
    "#err42 = np.zeros(Nmax4+1)\n",
    "# set the initial iterated value\n",
    "p52[0][0] = -3.0\n",
    "p52[1][0] = 0.0\n",
    "p52[2][0] = 4.0\n",
    "#err42[0] = np.abs(p4[0]-3.0**(1.0/7))\n",
    "# now begin iteration\n",
    "for i52 in range(3):\n",
    "    print('\\n')\n",
    "    print(\"Iteration from starting point p0={0:2.1f}\".format(p52[i52][0]))\n",
    "    for ind52 in range(0,Nmax52):\n",
    "        if (df52(p52[i52][ind52]) == 0.0):\n",
    "            print('Choose another starting point')\n",
    "            break\n",
    "        else:\n",
    "            p52[i52][ind52+1] = p52[i52][ind52] - f52(p52[i52][ind52])/df52(p52[i52][ind52])\n",
    "            err52[i52][ind52] = np.abs(p52[i52][ind52+1] - p52[i52][ind52])\n",
    "            #err42[ind4+1] = np.abs(p4[ind4+1] - 3.0**(1.0/7))\n",
    "            if (err52[i52][ind52] < (2*epsilon52)):\n",
    "                print(\"Root Estimate #{0:1d}: p({1:1d}) = \\\n",
    "                {2:7.6f}, starting point p0={3:2.1f}\".format(ind52+1,ind52+1,p52[i52][ind52+1],p52[i52][0]))\n",
    "                print(\"The convergence tolerance has been met\")\n",
    "                break\n",
    "            print(\"Root Estimate #{0:1d}: p({1:1d}) = \\\n",
    "            {2:7.6f}, starting point {3:2.1f}\".format(ind52+1,ind52+1,p52[i52][ind52+1],p52[i52][0]))\n",
    "    if (ind52 >= (Nmax52-1)):\n",
    "        print('The maximum number of {0:1d} iterations \\\n",
    "        has been met.\\n'.format(Nmax52))\n",
    "    print('**Error Printout**\\n')\n",
    "    for ii52 in range(0,Nmax52):\n",
    "        print(\"Error Estimate #{0:1d}: |p{1:d}-p{2:d}| \\\n",
    "        = {3:7.6f}, starting point p0={4:2.1f}\".format(ii52+1,ii52+1,ii52,err52[i52][ii52],p52[i52][0]))\n",
    "    # plot the log error figure\n",
    "    plt.figure(i52+1)\n",
    "    plt.plot(np.log(err52[i52][:-1]),np.log(err52[i52][1:]),\"X\")\n",
    "    plt.show()    "
   ]
  },
  {
   "cell_type": "markdown",
   "metadata": {},
   "source": [
    "Three approximate zeros for this function are approximated. Calculate the slope of three logtithm error plot, we conclude the order of convergence for this algorithm is 2.\n",
    "\n",
    "c) Now we solve the zeros of the last function and generalize the order of convergence of Newton's method. By plotting the function we see there exists two zeros and the initial iterated values are set to be 0.5 and 1.5."
   ]
  },
  {
   "cell_type": "code",
   "execution_count": 33,
   "metadata": {},
   "outputs": [
    {
     "name": "stdout",
     "output_type": "stream",
     "text": [
      "**ME581 Homework Printout**\n",
      "\n",
      "Newton's method is applied to function f(x)=1.05-1.04x+ln(x)\n",
      "\n",
      "\n",
      "Iteration from starting point p0=0.5\n",
      "Root Estimate #1: p(1) =             0.669945, starting point 0.5\n",
      "Root Estimate #2: p(2) =             0.774444, starting point 0.5\n",
      "Root Estimate #3: p(3) =             0.818351, starting point 0.5\n",
      "Root Estimate #4: p(4) =             0.826863, starting point 0.5\n",
      "Root Estimate #5: p(5) =             0.827180, starting point 0.5\n",
      "Root Estimate #6: p(6) =                 0.827181, starting point p0=0.5\n",
      "The convergence tolerance has been met\n",
      "**Error Printout**\n",
      "\n",
      "Error Estimate #1: |p1-p0|         = 0.169945, starting point p0=0.5\n",
      "Error Estimate #2: |p2-p1|         = 0.104499, starting point p0=0.5\n",
      "Error Estimate #3: |p3-p2|         = 0.043907, starting point p0=0.5\n",
      "Error Estimate #4: |p4-p3|         = 0.008512, starting point p0=0.5\n",
      "Error Estimate #5: |p5-p4|         = 0.000317, starting point p0=0.5\n",
      "Error Estimate #6: |p6-p5|         = 0.000000, starting point p0=0.5\n",
      "Error Estimate #7: |p7-p6|         = 0.000000, starting point p0=0.5\n"
     ]
    },
    {
     "name": "stderr",
     "output_type": "stream",
     "text": [
      "/apps/share64/debian7/anaconda/anaconda3-4.4/lib/python3.6/site-packages/ipykernel_launcher.py:48: RuntimeWarning: divide by zero encountered in log\n"
     ]
    },
    {
     "data": {
      "image/png": "[encoded data removed]",
      "text/plain": [
       "<matplotlib.figure.Figure at 0x7f69e9e460b8>"
      ]
     },
     "metadata": {},
     "output_type": "display_data"
    },
    {
     "name": "stdout",
     "output_type": "stream",
     "text": [
      "\n",
      "\n",
      "Iteration from starting point p0=1.5\n",
      "Root Estimate #1: p(1) =             1.219996, starting point 1.5\n",
      "Root Estimate #2: p(2) =             1.129456, starting point 1.5\n",
      "Root Estimate #3: p(3) =             1.110712, starting point 1.5\n",
      "Root Estimate #4: p(4) =             1.109715, starting point 1.5\n",
      "Root Estimate #5: p(5) =             1.109712, starting point 1.5\n",
      "Root Estimate #6: p(6) =                 1.109712, starting point p0=1.5\n",
      "The convergence tolerance has been met\n",
      "**Error Printout**\n",
      "\n",
      "Error Estimate #1: |p1-p0|         = 0.280004, starting point p0=1.5\n",
      "Error Estimate #2: |p2-p1|         = 0.090540, starting point p0=1.5\n",
      "Error Estimate #3: |p3-p2|         = 0.018744, starting point p0=1.5\n",
      "Error Estimate #4: |p4-p3|         = 0.000997, starting point p0=1.5\n",
      "Error Estimate #5: |p5-p4|         = 0.000003, starting point p0=1.5\n",
      "Error Estimate #6: |p6-p5|         = 0.000000, starting point p0=1.5\n",
      "Error Estimate #7: |p7-p6|         = 0.000000, starting point p0=1.5\n"
     ]
    },
    {
     "data": {
      "image/png": "[encoded data removed]",
      "text/plain": [
       "<matplotlib.figure.Figure at 0x7f69e9ea9f28>"
      ]
     },
     "metadata": {},
     "output_type": "display_data"
    }
   ],
   "source": [
    "print('**ME581 Homework Printout**\\n')\n",
    "print('Newton\\'s method is applied to function f(x)=1.05-1.04x+ln(x)')\n",
    "# function and derivative is given\n",
    "def f53(x):\n",
    "    var = 1.05 - 1.04*x + np.log(x)\n",
    "    return var\n",
    "def df53(x):\n",
    "    var = -1.04 + 1.0/x\n",
    "    return var\n",
    "epsilon53 = 1.0e-6\n",
    "Nmax53 = 7\n",
    "# array to save iterated values\n",
    "p53 = np.zeros([2,Nmax53+1])\n",
    "# array to save error\n",
    "err53 = np.zeros([2,Nmax53])\n",
    "#err42 = np.zeros(Nmax4+1)\n",
    "# set the initial iterated value\n",
    "p53[0][0] = 0.5\n",
    "p53[1][0] = 1.5\n",
    "#err42[0] = np.abs(p4[0]-3.0**(1.0/7))\n",
    "# now begin iteration\n",
    "for i53 in range(2):\n",
    "    print('\\n')\n",
    "    print(\"Iteration from starting point p0={0:2.1f}\".format(p53[i53][0]))\n",
    "    for ind53 in range(0,Nmax53):\n",
    "        if (df53(p53[i53][ind53]) == 0.0):\n",
    "            print('Choose another starting point')\n",
    "            break\n",
    "        else:\n",
    "            p53[i53][ind53+1] = p53[i53][ind53] - f53(p53[i53][ind53])/df53(p53[i53][ind53])\n",
    "            err53[i53][ind53] = np.abs(p53[i53][ind53+1] - p53[i53][ind53])\n",
    "            #err42[ind4+1] = np.abs(p4[ind4+1] - 3.0**(1.0/7))\n",
    "            if (err53[i53][ind53] < (2*epsilon53)):\n",
    "                print(\"Root Estimate #{0:1d}: p({1:1d}) = \\\n",
    "                {2:7.6f}, starting point p0={3:2.1f}\".format(ind53+1,ind53+1,p53[i53][ind53+1],p53[i53][0]))\n",
    "                print(\"The convergence tolerance has been met\")\n",
    "                break\n",
    "            print(\"Root Estimate #{0:1d}: p({1:1d}) = \\\n",
    "            {2:7.6f}, starting point {3:2.1f}\".format(ind53+1,ind53+1,p53[i53][ind53+1],p53[i53][0]))\n",
    "    if (ind53 >= (Nmax53-1)):\n",
    "        print('The maximum number of {0:1d} iterations \\\n",
    "        has been met.\\n'.format(Nmax53))\n",
    "    print('**Error Printout**\\n')\n",
    "    for ii53 in range(0,Nmax53):\n",
    "        print(\"Error Estimate #{0:1d}: |p{1:d}-p{2:d}| \\\n",
    "        = {3:7.6f}, starting point p0={4:2.1f}\".format(ii53+1,ii53+1,ii53,err53[i53][ii53],p53[i53][0]))\n",
    "    # plot the log error figure\n",
    "    plt.figure(i53+1)\n",
    "    plt.plot(np.log(err53[i53][:-1]),np.log(err53[i53][1:]),\"X\")\n",
    "    plt.show()"
   ]
  },
  {
   "cell_type": "markdown",
   "metadata": {},
   "source": [
    "Two zeros of this function are solved and shown above, the slope of two logrithm errors curves are approximated to be 2 roughly. Hence we can conclude that Newton's method is with order of convergence at least equal to 2. This can be proven by setting $g(x) = x - \\tfrac{f(x)}{f'(x)}$ and use Taylor expansion to express $g(x)$ at the fixed point $s$ of $g(x)$."
   ]
  },
  {
   "cell_type": "markdown",
   "metadata": {},
   "source": [
    "## Problem 6\n",
    "Consider the function $f(x) = (3x)(1-\\cos(\\pi x))$, which has a root of multiplicity three at $x = 0$. Apply ten iterations of Newton's method to this equation with a starting value of $p_0 = 0.5$. Comment on the order of convergence.\n",
    "\n",
    "Solution: The first ten iterations and the approximation of order of convergence is shown below:"
   ]
  },
  {
   "cell_type": "code",
   "execution_count": 34,
   "metadata": {},
   "outputs": [
    {
     "name": "stdout",
     "output_type": "stream",
     "text": [
      "**ME581 Homework Printout**\n",
      "\n",
      "Newton's method is applied to function f(x)=(3x)(1-cos(pix))\n",
      "\n",
      "\n",
      "Iteration from starting point p0=0.5\n",
      "Root Estimate #1: p(1) =         0.305508, starting point 0.5\n",
      "Root Estimate #2: p(2) =         0.198088, starting point 0.5\n",
      "Root Estimate #3: p(3) =         0.130597, starting point 0.5\n",
      "Root Estimate #4: p(4) =         0.086653, starting point 0.5\n",
      "Root Estimate #5: p(5) =         0.057649, starting point 0.5\n",
      "Root Estimate #6: p(6) =         0.038398, starting point 0.5\n",
      "Root Estimate #7: p(7) =         0.025588, starting point 0.5\n",
      "Root Estimate #8: p(8) =         0.017056, starting point 0.5\n",
      "Root Estimate #9: p(9) =         0.011369, starting point 0.5\n",
      "Root Estimate #10: p(10) =         0.007579, starting point 0.5\n",
      "The maximum number of 10 iterations     has been met.\n",
      "\n",
      "**Error Printout**\n",
      "\n",
      "Error Estimate #1: |p1-p0|     = 0.194492, starting point p0=0.5\n",
      "Error Estimate #2: |p2-p1|     = 0.107420, starting point p0=0.5\n",
      "Error Estimate #3: |p3-p2|     = 0.067491, starting point p0=0.5\n",
      "Error Estimate #4: |p4-p3|     = 0.043945, starting point p0=0.5\n",
      "Error Estimate #5: |p5-p4|     = 0.029004, starting point p0=0.5\n",
      "Error Estimate #6: |p6-p5|     = 0.019251, starting point p0=0.5\n",
      "Error Estimate #7: |p7-p6|     = 0.012810, starting point p0=0.5\n",
      "Error Estimate #8: |p8-p7|     = 0.008532, starting point p0=0.5\n",
      "Error Estimate #9: |p9-p8|     = 0.005686, starting point p0=0.5\n",
      "Error Estimate #10: |p10-p9|     = 0.003790, starting point p0=0.5\n"
     ]
    },
    {
     "data": {
      "image/png": "[encoded data removed]",
      "text/plain": [
       "<matplotlib.figure.Figure at 0x7f69e9e0c3c8>"
      ]
     },
     "metadata": {},
     "output_type": "display_data"
    },
    {
     "data": {
      "text/plain": [
       "LinregressResult(slope=0.9602391425082597, intercept=-0.57658895388253262, rvalue=0.99938780923244708, pvalue=1.8680231195693883e-11, stderr=0.012705397166337827)"
      ]
     },
     "execution_count": 34,
     "metadata": {},
     "output_type": "execute_result"
    }
   ],
   "source": [
    "print('**ME581 Homework Printout**\\n')\n",
    "print('Newton\\'s method is applied to function f(x)=(3x)(1-cos(pix))')\n",
    "import math\n",
    "from scipy.stats import linregress\n",
    "# function and derivative is given\n",
    "def f6(x):\n",
    "    var = (3.0*x)*(1.0 - np.cos(math.pi*x))\n",
    "    return var\n",
    "def df6(x):\n",
    "    var = 3.0 - 3.0*np.cos(math.pi*x) + 3.0*math.pi*x*np.sin(math.pi*x)\n",
    "    return var\n",
    "epsilon6 = 1.0e-6\n",
    "Nmax6 = 10\n",
    "# array to save iterated values\n",
    "p6 = np.zeros(Nmax6+1)\n",
    "# array to save error\n",
    "err6 = np.zeros([Nmax6])\n",
    "#err42 = np.zeros(Nmax4+1)\n",
    "# set the initial iterated value\n",
    "p6[0] = 0.5\n",
    "#err42[0] = np.abs(p4[0]-3.0**(1.0/7))\n",
    "# now begin iteration\n",
    "print('\\n')\n",
    "print(\"Iteration from starting point p0={0:2.1f}\".format(p6[0]))\n",
    "for ind6 in range(0,Nmax6):\n",
    "    if (df6(p6[ind6]) == 0.0):\n",
    "        print('Choose another starting point')\n",
    "        break\n",
    "    else:\n",
    "        p6[ind6+1] = p6[ind6] - f6(p6[ind6])/df6(p6[ind6])\n",
    "        err6[ind6] = np.abs(p6[ind6+1] - p6[ind6])\n",
    "        #err42[ind4+1] = np.abs(p4[ind4+1] - 3.0**(1.0/7))\n",
    "        if (err6[ind6] < (2*epsilon6)):\n",
    "            print(\"Root Estimate #{0:1d}: p({1:1d}) = \\\n",
    "            {2:7.6f}, starting point p0={3:2.1f}\".format(ind6+1,ind6+1,p6[ind6+1],p6[0]))\n",
    "            print(\"The convergence tolerance has been met\")\n",
    "            break\n",
    "        print(\"Root Estimate #{0:1d}: p({1:1d}) = \\\n",
    "        {2:7.6f}, starting point {3:2.1f}\".format(ind6+1,ind6+1,p6[ind6+1],p6[0]))\n",
    "if (ind6 >= (Nmax6-1)):\n",
    "    print('The maximum number of {0:1d} iterations \\\n",
    "    has been met.\\n'.format(Nmax6))\n",
    "print('**Error Printout**\\n')\n",
    "for ii6 in range(0,Nmax6):\n",
    "    print(\"Error Estimate #{0:1d}: |p{1:d}-p{2:d}| \\\n",
    "    = {3:7.6f}, starting point p0={4:2.1f}\".format(ii6+1,ii6+1,ii6,err6[ii6],p6[0]))\n",
    "# plot the log error figure\n",
    "plt.figure()\n",
    "plt.plot(np.log(err6[:-1]),np.log(err6[1:]),\"X\")\n",
    "plt.grid(True)\n",
    "plt.show()\n",
    "linregress(np.log(err6[:-1]),np.log(err6[1:]))"
   ]
  },
  {
   "cell_type": "markdown",
   "metadata": {},
   "source": [
    "It means that with respect to this special function, Newton's method is of linear convergence (order of convergence equals 1). This can be shown as below:\n",
    "$$g(x) = x - \\frac{f(x)}{f'(x)} = \\frac{3\\pi x^2\\sin(\\pi x)}{3 - 3\\cos(\\pi x) + 3\\pi x\\sin(\\pi x)}$$\n",
    "We take the first derivative of function $g(x)$ see that $g'(x) \\neq 0$, i.e., function $f(x)$ using Newton's method to iterate for zeros has order of convergence equal to 1."
   ]
  },
  {
   "cell_type": "markdown",
   "metadata": {
    "collapsed": true
   },
   "source": [
    "## Problem 7\n",
    "The function $f(x) = \\sin(x)$ has a zero on the interval $(3,4)$, namely $x = \\pi$. Perform three iterations of Newton's method to approximate this zero, using $p_0 = 4$. Determine the absolute error in each of the computed approximations. What is the apparent order of convergence? What explanation can you provide for this behavior?\n",
    "\n",
    "Solution: Apply Newton's method to this function and codes are shown below:"
   ]
  },
  {
   "cell_type": "code",
   "execution_count": 35,
   "metadata": {},
   "outputs": [
    {
     "name": "stdout",
     "output_type": "stream",
     "text": [
      "**ME581 Homework Printout**\n",
      "\n",
      "Newton's method is applied to function f(x)=sin(x)\n",
      "\n",
      "\n",
      "Iteration from starting point p0=4.0\n",
      "Root Estimate #1: p(1) =         2.842179, starting point 4.0\n",
      "Root Estimate #2: p(2) =         3.150873, starting point 4.0\n",
      "Root Estimate #3: p(3) =             3.141592, starting point p0=4.0\n",
      "The convergence tolerance has been met\n",
      "The maximum number of 3 iterations     has been met.\n",
      "\n",
      "**Error Printout**\n",
      "\n",
      "Error Estimate #0: |p0-pi|     = 0.858407, starting point p0=4.0\n",
      "Error Estimate #1: |p1-pi|     = 0.299414, starting point p0=4.0\n",
      "Error Estimate #2: |p2-pi|     = 0.009280, starting point p0=4.0\n",
      "Error Estimate #3: |p3-pi|     = 0.000000, starting point p0=4.0\n"
     ]
    },
    {
     "data": {
      "image/png": "[encoded data removed]",
      "text/plain": [
       "<matplotlib.figure.Figure at 0x7f69e9d88780>"
      ]
     },
     "metadata": {},
     "output_type": "display_data"
    },
    {
     "data": {
      "text/plain": [
       "LinregressResult(slope=3.0607400287586688, intercept=-0.84725930950088824, rvalue=0.99984345963489696, pvalue=0.011264552865690886, stderr=0.054163360960491326)"
      ]
     },
     "execution_count": 35,
     "metadata": {},
     "output_type": "execute_result"
    }
   ],
   "source": [
    "print('**ME581 Homework Printout**\\n')\n",
    "print('Newton\\'s method is applied to function f(x)=sin(x)')\n",
    "# function and derivative is given\n",
    "def f7(x):\n",
    "    var = np.sin(x)\n",
    "    return var\n",
    "def df7(x):\n",
    "    var = np.cos(x)\n",
    "    return var\n",
    "epsilon7 = 1.0e-6\n",
    "Nmax7 = 3\n",
    "# array to save iterated values\n",
    "p7 = np.zeros(Nmax7+1)\n",
    "# array to save error\n",
    "err7 = np.zeros(Nmax7+1)\n",
    "#err42 = np.zeros(Nmax4+1)\n",
    "# set the initial iterated value\n",
    "p7[0] = 4.0\n",
    "err7[0] = np.abs(p7[0]-math.pi)\n",
    "# now begin iteration\n",
    "print('\\n')\n",
    "print(\"Iteration from starting point p0={0:2.1f}\".format(p7[0]))\n",
    "for ind7 in range(0,Nmax7):\n",
    "    if (df7(p7[ind7]) == 0.0):\n",
    "        print('Choose another starting point')\n",
    "        break\n",
    "    else:\n",
    "        p7[ind7+1] = p7[ind7] - f7(p7[ind7])/df7(p7[ind7])\n",
    "        err7[ind7+1] = np.abs(p7[ind7+1] - math.pi)\n",
    "        #err42[ind4+1] = np.abs(p4[ind4+1] - 3.0**(1.0/7))\n",
    "        if (err7[ind7+1] < (2*epsilon7)):\n",
    "            print(\"Root Estimate #{0:1d}: p({1:1d}) = \\\n",
    "            {2:7.6f}, starting point p0={3:2.1f}\".format(ind7+1,ind7+1,p7[ind7+1],p7[0]))\n",
    "            print(\"The convergence tolerance has been met\")\n",
    "            break\n",
    "        print(\"Root Estimate #{0:1d}: p({1:1d}) = \\\n",
    "        {2:7.6f}, starting point {3:2.1f}\".format(ind7+1,ind7+1,p7[ind7+1],p7[0]))\n",
    "if (ind7 >= (Nmax7-1)):\n",
    "    print('The maximum number of {0:1d} iterations \\\n",
    "    has been met.\\n'.format(Nmax7))\n",
    "print('**Error Printout**\\n')\n",
    "for ii7 in range(0,Nmax7+1):\n",
    "    print(\"Error Estimate #{0:1d}: |p{1:d}-pi| \\\n",
    "    = {2:7.6f}, starting point p0={3:2.1f}\".format(ii7,ii7,err7[ii7],p7[0]))\n",
    "# plot the log error figure\n",
    "plt.figure()\n",
    "plt.plot(np.log(err7[:-1]),np.log(err7[1:]),\"X\")\n",
    "plt.grid(True)\n",
    "plt.show()\n",
    "linregress(np.log(err7[:-1]),np.log(err7[1:]))"
   ]
  },
  {
   "cell_type": "markdown",
   "metadata": {},
   "source": [
    "From figure above, the apparent order of convergence is 3. We can prove this analytically as below:\n",
    "$$g(x) = x - \\frac{f(x)}{f'(x)} = x - \\tan(x)$$\n",
    "The first derivative of $g(x)$ is:\n",
    "$$g'(x) = 1 - \\frac{1}{\\cos^2(x)}$$\n",
    "The second derivative of $g(x)$ is:\n",
    "$$g''(x) = -\\frac{2\\sin(x)}{\\cos^3(x)}$$\n",
    "The third derivative of \n",
    "$$g^{(3)}(x) = -\\frac{2\\cos^2(x)+6\\sin^2(x)}{\\cos^4(x)}$$\n",
    "We see that the fixed point $s$ of function $g(x)$ is the zero point of function $f(x)=\\sin(x)$. Then we use Taylor series to expand $g(x_{n})$ about the fixed point $s$. That is,\n",
    "$$x_{n+1} = g(x_n) = g(s) + g'(s)(x_{n}-s) + \\frac{1}{2}g''(s)(x_{n}-s)^2 + \\cdots$$\n",
    "$$\\epsilon_{n+1} = g'(s)\\epsilon_{n} + \\frac{1}{2}g''(s)\\epsilon^2_{n} + \\frac{1}{6}g^{(3)}(s)\\epsilon_{n}^3 + \\cdots$$\n",
    "For this problem, the fixed point is $s = \\pi$, hence $g'(s) = 0$, $g''(s) = 0$ but $g^{(3)}(s)\\neq 0$. Therefore, we can conclude that Newton's method applied to function $f(x) = \\sin(x)$ at point $s=\\pi$ has order of convergence equal to 3."
   ]
  },
  {
   "cell_type": "markdown",
   "metadata": {},
   "source": [
    "## Problem 8\n",
    "(a) Verify that the equation $x^4 - 18x^2 + 45 = 0$ has a root on the interval $(1,2)$. Next, perform three iterations of Newton's method, with $p_0 = 1$. Given that the exact value of the root is $x = \\sqrt{3}$, compute the absolute error in the approximation just obtained. What is the apparent order of convergence? What explanation can you provide for this behavior?\n",
    "\n",
    "(b) Verify that the equation $x^4 - 18x^2 + 45 = 0$ also has a root on the interval $(3,4)$. Perform five iterations of Newton's method, and compute the absolute error in each approximation. The exact value of the root is $x = \\sqrt{15}$. What is the apparent order of convergence in this case?\n",
    "\n",
    "(c) What explanation can you provide for the different convergence behavior between parts (a) and (b)?"
   ]
  },
  {
   "cell_type": "markdown",
   "metadata": {},
   "source": [
    "Solution: \n",
    "(a) suppose $f(x) = x^4 - 18x^2 + 45$, then we have: $f(1) = 26 > 0$ and $f(2) = -11 < 0$, then we conclude there is a root for equation $x^4 - 18x^2 + 45 = 0$ in $(1,2)$."
   ]
  },
  {
   "cell_type": "code",
   "execution_count": 36,
   "metadata": {},
   "outputs": [
    {
     "name": "stdout",
     "output_type": "stream",
     "text": [
      "**ME581 Homework Printout**\n",
      "\n",
      "Newton's method is applied to function f(x)=x^4-18x^2+45\n",
      "\n",
      "\n",
      "Iteration from starting point p0=1.0\n",
      "Root Estimate #1: p(1) =         1.875000, starting point 1.0\n",
      "Root Estimate #2: p(2) =         1.731036, starting point 1.0\n",
      "Root Estimate #3: p(3) =             1.732051, starting point p0=1.0\n",
      "The convergence tolerance has been met\n",
      "The maximum number of 3 iterations     has been met.\n",
      "\n",
      "**Error Printout**\n",
      "\n",
      "Error Estimate #0: |p0-pi|     = 0.732051, starting point p0=1.0\n",
      "Error Estimate #1: |p1-pi|     = 0.142949, starting point p0=1.0\n",
      "Error Estimate #2: |p2-pi|     = 0.001014, starting point p0=1.0\n",
      "Error Estimate #3: |p3-pi|     = 0.000000, starting point p0=1.0\n"
     ]
    },
    {
     "data": {
      "image/png": "[encoded data removed]",
      "text/plain": [
       "<matplotlib.figure.Figure at 0x7f69e9e613c8>"
      ]
     },
     "metadata": {},
     "output_type": "display_data"
    },
    {
     "data": {
      "text/plain": [
       "LinregressResult(slope=3.012348659444378, intercept=-1.0176542971056062, rvalue=0.99999903490201392, pvalue=0.00088446542503117797, stderr=0.0041851039934912891)"
      ]
     },
     "execution_count": 36,
     "metadata": {},
     "output_type": "execute_result"
    }
   ],
   "source": [
    "print('**ME581 Homework Printout**\\n')\n",
    "print('Newton\\'s method is applied to function f(x)=x^4-18x^2+45')\n",
    "# function and derivative is given\n",
    "def f81(x):\n",
    "    var = x**4.0 - 18.0*x**2 + 45\n",
    "    return var\n",
    "def df81(x):\n",
    "    var = 4.0*x**3.0 - 36.0*x\n",
    "    return var\n",
    "epsilon81 = 1.0e-6\n",
    "Nmax81 = 3\n",
    "# array to save iterated values\n",
    "p81 = np.zeros(Nmax81+1)\n",
    "# array to save error\n",
    "err81 = np.zeros(Nmax81+1)\n",
    "#err42 = np.zeros(Nmax4+1)\n",
    "# set the initial iterated value\n",
    "p81[0] = 1.0\n",
    "err81[0] = np.abs(p81[0]-np.sqrt(3))\n",
    "# now begin iteration\n",
    "print('\\n')\n",
    "print(\"Iteration from starting point p0={0:2.1f}\".format(p81[0]))\n",
    "for ind81 in range(0,Nmax81):\n",
    "    if (df81(p81[ind81]) == 0.0):\n",
    "        print('Choose another starting point')\n",
    "        break\n",
    "    else:\n",
    "        p81[ind81+1] = p81[ind81] - f81(p81[ind81])/df81(p81[ind81])\n",
    "        err81[ind81+1] = np.abs(p81[ind81+1] - np.sqrt(3))\n",
    "        #err42[ind4+1] = np.abs(p4[ind4+1] - 3.0**(1.0/7))\n",
    "        if (err81[ind81+1] < (2*epsilon81)):\n",
    "            print(\"Root Estimate #{0:1d}: p({1:1d}) = \\\n",
    "            {2:7.6f}, starting point p0={3:2.1f}\".format(ind81+1,ind81+1,p81[ind81+1],p81[0]))\n",
    "            print(\"The convergence tolerance has been met\")\n",
    "            break\n",
    "        print(\"Root Estimate #{0:1d}: p({1:1d}) = \\\n",
    "        {2:7.6f}, starting point {3:2.1f}\".format(ind81+1,ind81+1,p81[ind81+1],p81[0]))\n",
    "if (ind81 >= (Nmax81-1)):\n",
    "    print('The maximum number of {0:1d} iterations \\\n",
    "    has been met.\\n'.format(Nmax81))\n",
    "print('**Error Printout**\\n')\n",
    "for ii81 in range(0,Nmax81+1):\n",
    "    print(\"Error Estimate #{0:1d}: |p{1:d}-pi| \\\n",
    "    = {2:7.6f}, starting point p0={3:2.1f}\".format(ii81,ii81,err81[ii81],p81[0]))\n",
    "# plot the log error figure\n",
    "plt.figure()\n",
    "plt.plot(np.log(err81[:-1]),np.log(err81[1:]),\"X\")\n",
    "plt.grid(True)\n",
    "plt.show()\n",
    "linregress(np.log(err81[:-1]),np.log(err81[1:]))"
   ]
  },
  {
   "cell_type": "markdown",
   "metadata": {},
   "source": [
    "The apparent order of convergence is 3, which can be explained as the same way as Problem 7."
   ]
  },
  {
   "cell_type": "markdown",
   "metadata": {},
   "source": [
    "(b) $f(3) = -36 < 0$ and $f(4) = 13 > 0$, so this equation also has a root in $(3,4)$."
   ]
  },
  {
   "cell_type": "code",
   "execution_count": 37,
   "metadata": {},
   "outputs": [
    {
     "name": "stdout",
     "output_type": "stream",
     "text": [
      "**ME581 Homework Printout**\n",
      "\n",
      "Newton's method is applied to function f(x)=x^4-18x^2+45\n",
      "\n",
      "\n",
      "Iteration from starting point p0=5.0\n",
      "Root Estimate #1: p(1) =         4.312500, starting point 5.0\n",
      "Root Estimate #2: p(2) =         3.973559, starting point 5.0\n",
      "Root Estimate #3: p(3) =         3.880028, starting point 5.0\n",
      "Root Estimate #4: p(4) =         3.873021, starting point 5.0\n",
      "Root Estimate #5: p(5) =             3.872983, starting point p0=5.0\n",
      "The convergence tolerance has been met\n",
      "The maximum number of 5 iterations     has been met.\n",
      "\n",
      "**Error Printout**\n",
      "\n",
      "Error Estimate #0: |p0-pi|     = 1.127017, starting point p0=5.0\n",
      "Error Estimate #1: |p1-pi|     = 0.439517, starting point p0=5.0\n",
      "Error Estimate #2: |p2-pi|     = 0.100575, starting point p0=5.0\n",
      "Error Estimate #3: |p3-pi|     = 0.007044, starting point p0=5.0\n",
      "Error Estimate #4: |p4-pi|     = 0.000038, starting point p0=5.0\n",
      "Error Estimate #5: |p5-pi|     = 0.000000, starting point p0=5.0\n"
     ]
    },
    {
     "data": {
      "image/png": "[encoded data removed]",
      "text/plain": [
       "<matplotlib.figure.Figure at 0x7f69ea15ccf8>"
      ]
     },
     "metadata": {},
     "output_type": "display_data"
    },
    {
     "data": {
      "text/plain": [
       "LinregressResult(slope=1.9375941761463078, intercept=-0.74517024560224154, rvalue=0.99959971886927224, pvalue=9.6129228449155708e-06, stderr=0.031661403332013338)"
      ]
     },
     "execution_count": 37,
     "metadata": {},
     "output_type": "execute_result"
    }
   ],
   "source": [
    "print('**ME581 Homework Printout**\\n')\n",
    "print('Newton\\'s method is applied to function f(x)=x^4-18x^2+45')\n",
    "# function and derivative is given\n",
    "def f82(x):\n",
    "    var = x**4.0 - 18.0*x**2 + 45\n",
    "    return var\n",
    "def df82(x):\n",
    "    var = 4.0*x**3.0 - 36.0*x\n",
    "    return var\n",
    "epsilon82 = 1.0e-6\n",
    "Nmax82 = 5\n",
    "# array to save iterated values\n",
    "p82 = np.zeros(Nmax82+1)\n",
    "# array to save error\n",
    "err82 = np.zeros(Nmax82+1)\n",
    "#err42 = np.zeros(Nmax4+1)\n",
    "# set the initial iterated value\n",
    "p82[0] = 5.0\n",
    "err82[0] = np.abs(p82[0]-np.sqrt(15))\n",
    "# now begin iteration\n",
    "print('\\n')\n",
    "print(\"Iteration from starting point p0={0:2.1f}\".format(p82[0]))\n",
    "for ind82 in range(0,Nmax82):\n",
    "    if (df82(p82[ind82]) == 0.0):\n",
    "        print('Choose another starting point')\n",
    "        break\n",
    "    else:\n",
    "        p82[ind82+1] = p82[ind82] - f82(p82[ind82])/df82(p82[ind82])\n",
    "        err82[ind82+1] = np.abs(p82[ind82+1] - np.sqrt(15))\n",
    "        #err42[ind4+1] = np.abs(p4[ind4+1] - 3.0**(1.0/7))\n",
    "        if (err82[ind82+1] < (2*epsilon82)):\n",
    "            print(\"Root Estimate #{0:1d}: p({1:1d}) = \\\n",
    "            {2:7.6f}, starting point p0={3:2.1f}\".format(ind82+1,ind82+1,p82[ind82+1],p82[0]))\n",
    "            print(\"The convergence tolerance has been met\")\n",
    "            break\n",
    "        print(\"Root Estimate #{0:1d}: p({1:1d}) = \\\n",
    "        {2:7.6f}, starting point {3:2.1f}\".format(ind82+1,ind82+1,p82[ind82+1],p82[0]))\n",
    "if (ind82 >= (Nmax82-1)):\n",
    "    print('The maximum number of {0:1d} iterations \\\n",
    "    has been met.\\n'.format(Nmax82))\n",
    "print('**Error Printout**\\n')\n",
    "for ii82 in range(0,Nmax82+1):\n",
    "    print(\"Error Estimate #{0:1d}: |p{1:d}-pi| \\\n",
    "    = {2:7.6f}, starting point p0={3:2.1f}\".format(ii82,ii82,err82[ii82],p82[0]))\n",
    "# plot the log error figure\n",
    "plt.figure()\n",
    "plt.plot(np.log(err82[:-1]),np.log(err82[1:]),\"X\")\n",
    "plt.grid(True)\n",
    "plt.show()\n",
    "linregress(np.log(err82[:-1]),np.log(err82[1:]))"
   ]
  },
  {
   "cell_type": "markdown",
   "metadata": {},
   "source": [
    "The apparent order of convergence is 2 for this case.\n",
    "\n",
    "(c) It is easy to explain this difference, construct $g(x) = x - \\tfrac{f(x)}{f'(x)}$, then $g'(\\sqrt{3}) = g'(\\sqrt{15}) = 0$, $g''(\\sqrt{3}) = 0$, however $g''(\\sqrt{15}) \\neq 0$ and $g^{(3)}(\\sqrt{3}) \\neq 0$. Then detailed explanation is given in problem 7."
   ]
  },
  {
   "cell_type": "markdown",
   "metadata": {},
   "source": [
    "## Problem 9\n",
    "The function $f(x) = \\sin(x)$ has a zero on the interval $(3,4)$, namely $x = \\pi$. Perform five iterations of the secant method to approximate this zero, using $p_0 = 3$ and $p_1 = 4$. Determine the absolute error in each of the computer approximations. What is the apparent order of convergence? What explanation can you provide for this behavior?\n",
    "\n",
    "Solution: The algorithm is implemented below:"
   ]
  },
  {
   "cell_type": "code",
   "execution_count": 38,
   "metadata": {},
   "outputs": [
    {
     "name": "stdout",
     "output_type": "stream",
     "text": [
      "**ME581 Homework Printout**\n",
      "\n",
      "Secant method is applied to function f(x)=sin(x)\n",
      "\n",
      "\n",
      "Iteration from starting point p0=3.0, p1=4.0\n",
      "Root Estimate #2: p(2) =     3.157162792480\n",
      "Root Estimate #3: p(3) =     3.139459098218\n",
      "Root Estimate #4: p(4) =     3.141592727985\n",
      "Root Estimate #5: p(5) =         3.141592653590\n",
      "The convergence tolerance has been met\n",
      "**Error Printout**\n",
      "\n",
      "Error Estimate #0: |p0-pi|     = 0.141592653590\n",
      "Error Estimate #1: |p1-pi|     = 0.858407346410\n",
      "Error Estimate #2: |p2-pi|     = 0.015570138890\n",
      "Error Estimate #3: |p3-pi|     = 0.002133555372\n",
      "Error Estimate #4: |p4-pi|     = 0.000000074395\n",
      "Error Estimate #5: |p5-pi|     = 0.000000000000\n",
      "Error Estimate #6: |p6-pi|     = 0.000000000000\n"
     ]
    },
    {
     "data": {
      "image/png": "[encoded data removed]",
      "text/plain": [
       "<matplotlib.figure.Figure at 0x7f69ea0e57f0>"
      ]
     },
     "metadata": {},
     "output_type": "display_data"
    },
    {
     "data": {
      "text/plain": [
       "LinregressResult(slope=1.8188054126673969, intercept=-2.5641221163018173, rvalue=0.84504813095133324, pvalue=0.35914341025206276, stderr=1.1508190754555108)"
      ]
     },
     "execution_count": 38,
     "metadata": {},
     "output_type": "execute_result"
    }
   ],
   "source": [
    "print('**ME581 Homework Printout**\\n')\n",
    "print('Secant method is applied to function f(x)=sin(x)')\n",
    "# function and derivative is given\n",
    "def f9(x):\n",
    "    var = np.sin(x)\n",
    "    return var\n",
    "epsilon9 = 1.0e-12\n",
    "Nmax9 = 5\n",
    "# array to save iterated values\n",
    "p9 = np.zeros(Nmax9+2)\n",
    "# array to save error\n",
    "err9 = np.zeros(Nmax9+2)\n",
    "#err42 = np.zeros(Nmax4+1)\n",
    "# set the initial iterated value\n",
    "p9[0] = 3.0\n",
    "p9[1] = 4.0\n",
    "err9[0] = np.abs(p9[0]-math.pi)\n",
    "err9[1] = np.abs(p9[1]-math.pi)\n",
    "# now begin iteration\n",
    "print('\\n')\n",
    "print(\"Iteration from starting point p0={0:2.1f}, p1={1:2.1f}\".format(p9[0],p9[1]))\n",
    "for ind9 in range(0,Nmax9):\n",
    "    p9[ind9+2] = p9[ind9+1] - f9(p9[ind9+1])*(p9[ind9+1] - p9[ind9])/(f9(p9[ind9+1]) - f9(p9[ind9]))\n",
    "    err9[ind9+2] = np.abs(p9[ind9+2] - math.pi)\n",
    "    #err42[ind4+1] = np.abs(p4[ind4+1] - 3.0**(1.0/7))\n",
    "    if (err9[ind9+2] < (2*epsilon9)):\n",
    "        print(\"Root Estimate #{0:1d}: p({1:1d}) = \\\n",
    "        {2:13.12f}\".format(ind9+2,ind9+2,p9[ind9+2]))\n",
    "        print(\"The convergence tolerance has been met\")\n",
    "        break\n",
    "    print(\"Root Estimate #{0:1d}: p({1:1d}) = \\\n",
    "    {2:13.12f}\".format(ind9+2,ind9+2,p9[ind9+2]))\n",
    "if (ind9 >= (Nmax9-1)):\n",
    "    print('The maximum number of {0:1d} iterations \\\n",
    "    has been met.\\n'.format(Nmax9))\n",
    "print('**Error Printout**\\n')\n",
    "for ii9 in range(0,Nmax9+2):\n",
    "    print(\"Error Estimate #{0:1d}: |p{1:d}-pi| \\\n",
    "    = {2:13.12f}\".format(ii9,ii9,err9[ii9]))\n",
    "# plot the log error figure\n",
    "plt.figure()\n",
    "plt.plot(np.log(err9[1:4]),np.log(err9[2:5]),\"X\")\n",
    "plt.grid(True)\n",
    "plt.show()\n",
    "linregress(np.log(err9[1:4]),np.log(err9[2:5]))"
   ]
  },
  {
   "cell_type": "markdown",
   "metadata": {},
   "source": [
    "The absolute error for each computer approximation are shown above. The apparent order of convergence is 1.81881, which approaches the golden ratio (1.618)."
   ]
  },
  {
   "cell_type": "code",
   "execution_count": null,
   "metadata": {
    "collapsed": true
   },
   "outputs": [],
   "source": []
  }
 ],
 "metadata": {
  "kernelspec": {
   "display_name": "Python3",
   "language": "python",
   "name": "python3"
  },
  "language_info": {
   "codemirror_mode": {
    "name": "ipython",
    "version": 3
   },
   "file_extension": ".py",
   "mimetype": "text/x-python",
   "name": "python",
   "nbconvert_exporter": "python",
   "pygments_lexer": "ipython3",
   "version": "3.6.2"
  }
 },
 "nbformat": 4,
 "nbformat_minor": 2
}
