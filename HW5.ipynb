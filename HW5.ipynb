{
 "cells": [
  {
   "cell_type": "markdown",
   "metadata": {},
   "source": [
    "# ME 581 HW 5\n",
    "Yi Yang @ (yang1087@purdue.edu), all rights reserved."
   ]
  },
  {
   "cell_type": "markdown",
   "metadata": {},
   "source": [
    "## Problem 1\n",
    "Using either of the Trapezoidal, Simpson or the midpoint rule rule evaluate the following integrals. State the reason for your choice. Compare with the analytical solution. Will it give you the exact result? If not, why?\n",
    "\n",
    "(a) $\\int_0^5(5x^2 + 3)dx$\n",
    "\n",
    "(b) $\\int_1^4(2x + 1)dx$\n",
    "\n",
    "(c) $\\int_1^2(e^x)dx$"
   ]
  },
  {
   "cell_type": "markdown",
   "metadata": {},
   "source": [
    "$\\textbf{Solution}:$ \n",
    "\n",
    "(a) $\\int_0^5(5x^2 + 3)dx = (\\frac{5}{3}x^3 + 3x)|_0^5 = 223.333$\n",
    "\n",
    "Trapezoidal rule: $\\int_0^5(5x^2 + 3)dx = \\frac{5-0}{2}(f(0) + f(5)) = 327.5$\n",
    "\n",
    "Simpson rule: $\\int_0^5(5x^2 + 3)dx = \\frac{5-0}{6}(f(0) + 4f(2.5) + f(5)) = 223.333$\n",
    "\n",
    "Midpoint rule: $\\int_0^5(5x^2 + 3)dx = (5 - 0)\\cdot f(2.5) = 171.25$\n",
    "\n",
    "(b) $\\int_1^4 (2x + 1)dx = (x^2 + x)|_1^4 = 18$\n",
    "\n",
    "Trapezoidal rule: $\\int_1^4 (2x + 1)dx = \\frac{4-1}{2}(f(1) + f(4)) = 18$\n",
    "\n",
    "Simpson rule: $\\int_1^4 (2x + 1)dx = \\frac{4-1}{6}(f(1) + 4f(2.5) + f(4)) = 18$\n",
    "\n",
    "Midpoint rule: $\\int_1^4 (2x + 1)dx = (4 - 1)\\cdot f(2.5) = 18$\n",
    "\n",
    "(c) $\\int_1^2(e^x)dx = e^x|_1^2 = 4.67077$\n",
    "\n",
    "Trapezoidal rule: $\\int_1^2(e^x)dx = \\frac{2-1}{2}(f(1) + f(2)) = 5.053668964$\n",
    "\n",
    "Simpson rule: $\\int_1^2(e^x)dx = \\frac{2-1}{6}(f(1) + 4f(1.5) + f(2)) = 4.672349035$\n",
    "\n",
    "Midpoint rule: $\\int_1^2(e^x)dx = (2 - 1)\\cdot f(1.5) = 4.48168907$\n",
    "\n",
    "For (a), only Simpson rule can compute the exact solution, the integrand function is a polynomial with degree equal to 2, Simpson rule has degree of precision equalt to 3 but only 1 for Trapezoidal rule and midpoint rule. For (b), the integrand is a first order polynomial, all the three quadrature rules can compute the exact solution. For (c), the integrand is a infinite order polynomial according to the Taylor's expansion of natural logarithm, we know three rules all can not compute the exact solution, but Simpson's rule has the highest computing precision."
   ]
  },
  {
   "cell_type": "markdown",
   "metadata": {},
   "source": [
    "# Problem 2\n",
    "Using 2-point Gauss quadrature rule evaluate the following integrals.\n",
    "\n",
    "(a) $\\int_1^6(3x^4 + 5x^2)dx$. Did you expect to find the exact solution? Assume no rounding error.\n",
    "\n",
    "(b) $\\int_1^4(e^{x-5})dx$. Did you expect to find the exact solution? Assume no rounding error. \n",
    "\n",
    "(c) Generalize the change of variables you used in the previous integrals to compute $\\int_a^bf(x)dx$."
   ]
  },
  {
   "cell_type": "markdown",
   "metadata": {},
   "source": [
    "$\\textbf{Solution:}$ \n",
    "\n",
    "(a) $\\int_1^6(3x^4 + 5x^2)dx = (\\frac{3}{5}x^5 + \\frac{5}{3}x^3)|_1^6 = 5023.333$\n",
    "\n",
    "Gauss quadrature: \n",
    "$$\\int_1^6(3x^4 + 5x^2)dx = \\int_{-1}^1[3(\\frac{5z+7}{2})^4 + 5(\\frac{5z+7}{2})^2]\\cdot\\frac{5}{2}dz = g(z = \\frac{1}{\\sqrt{3}}) + g(z = -\\frac{1}{\\sqrt{3}}) = 4971.25$$\n",
    "We can not expect to find the exact solution, since 2 point Gauss quadrature has a degree of precision equal to 3 and the integrand is a fourth order polynomial.\n",
    "\n",
    "(b) $\\int_1^4(e^{x-5})dx = e^{x-5}|_1^4 = 0.349563802$\n",
    "\n",
    "Gauss quadrature:\n",
    "$$\\int_1^4(e^{x-5})dx = \\int_{-1}^1(e^{\\frac{3z+5}{2} - 5})\\cdot \\frac{3}{2}dz = g(z = \\frac{1}{\\sqrt{3}}) + g(z = -\\frac{1}{\\sqrt{3}}) = 0.344518459$$\n",
    "We can not expect to find the exact solution, since 2 point Gauss quadrature has a degree of precision equal to 3 and the integrand is a polynomial with infinite degrees (Taylor expansion).\n",
    "\n",
    "(c) We can generalize the formula using 2 point Gauss quadrature shown below:\n",
    "$$\\int_a^bf(x)dx = \\int_{-1}^1f(\\frac{(b-a)z+(a+b)}{2})\\cdot\\frac{b-a}{2}dz = \\int_{-1}^{1}g(z)dz = g(z = \\frac{1}{\\sqrt{3}}) + g(z = -\\frac{1}{\\sqrt{3}})$$"
   ]
  },
  {
   "cell_type": "markdown",
   "metadata": {},
   "source": [
    "# Problem 3\n",
    "Newton-Cotes quadrature rules are derived by fixing the nodes and then determining the corresponding weights by the methods of undetermined coefficients, so the degree is maximized for the given nodes. The opposite approach could also be taken, with the weights fixed and the nodes to be determined. In a Hermite quadrature rule, for example, all the weights are taken to have have the same value, $w$. Use the method of undermined coeffients to determine the nodes and weight for a 3 point Hermite quadrature on the interval $[-1,\\;1]$. Hermite polynomial basis is $\\{1,\\;2t,\\;4t^2 - 2,\\;8t^3 - 12t\\}$."
   ]
  },
  {
   "cell_type": "markdown",
   "metadata": {},
   "source": [
    "$\\textbf{Solution:}$\n",
    "\n",
    "The solution should have the form \n",
    "$$I(f) = wf(x_1) + wf(x_2) + wf(x_3)$$\n",
    "Then we apply this formula to the basis polynomials of Hermite function.\n",
    "$$\\int_{-1}^1 1dt = 2 = w + w + w$$\n",
    "$$\\int_{-1}^1 2tdt = 0 = w\\cdot 2x_1 + w\\cdot 2x_2 + w\\cdot 2x_3$$\n",
    "$$\\int_{-1}^1 (4t^2 - 2)dt = -\\frac{4}{3} = w\\cdot(4x_1^2 - 2 + 4x_2^2 - 2 + 4x_3^2 - 2)$$\n",
    "$$\\int_{-1}^1 (8t^3 - 12t)dt = 0 = w\\cdot(8x_1^3 - 12x_1 + 8x_2^3 - 12x_2 + 8x_3^3 - 12x_3)$$\n",
    "Solve for this group of equations, we get:\n",
    "$$w = \\frac{2}{3},\\quad x_1 = -\\frac{\\sqrt{2}}{2},\\quad x_2 = 0,\\quad x_3 = \\frac{\\sqrt{2}}{2}$$\n",
    "The formula for 3 point Hermite quadrature is given as:\n",
    "$$I(f) = \\frac{2}{3}\\cdot f(-\\frac{\\sqrt{2}}{2}) + \\frac{2}{3}\\cdot f(0) + \\frac{2}{3}\\cdot f(\\frac{\\sqrt{2}}{2})$$"
   ]
  },
  {
   "cell_type": "markdown",
   "metadata": {},
   "source": [
    "# Problem 4 \n",
    "Use two point Gauss quadrature to compute \n",
    "\n",
    "(a) $\\int_0^6\\int_0^2(-(x + 3)^2 + y^2)dxdy$. Did you expect to find the exact solution? Assume no rounding error.\n",
    "\n",
    "(b) $\\int_0^6\\int_0^2e^{-(x^2 + y^2)}dxdy$. Did you expect to find the exact solution? Assume no rounding error."
   ]
  },
  {
   "cell_type": "markdown",
   "metadata": {},
   "source": [
    "$\\textbf{Solution:}$ \n",
    "\n",
    "(a) We use the following transform\n",
    "$$x = u + 1,\\quad y = 3v + 3$$\n",
    "And u, v will form a canonical domain $[-1,\\;1]\\times[-1,\\;1]$.\n",
    "$$\\int_0^6\\int_0^2(-(x + 3)^2 + y^2)dxdy = \\int_{-1}^1\\int_{-1}^1[-(u+1+3)^2 + (3v + 3)^2]3dudv = \\int_{-1}^1\\int_{-1}^1g(u,v)dudv$$\n",
    "Using two point Guassian quadrature, we have:\n",
    "$$I(f) = g(\\frac{1}{\\sqrt{3}},\\frac{1}{\\sqrt{3}}) + g(\\frac{1}{\\sqrt{3}},-\\frac{1}{\\sqrt{3}}) + g(-\\frac{1}{\\sqrt{3}},\\frac{1}{\\sqrt{3}}) + g(-\\frac{1}{\\sqrt{3}},-\\frac{1}{\\sqrt{3}}) = -52$$\n",
    "We expect we can find the exact solution using 2 point Gaussian quadrature, since the integrand function is no more than cubic polynomials along x or y directions. We can compute the exact solution as below to verify our conclusion.\n",
    "$$I = \\int_0^6\\int_0^2[-(x+3)^2 + y^2]dxdy = \\int_0^6[-\\frac{1}{3}(x+3)^3 + y^2x]|_0^2dy = \\int_0^6(-\\frac{125}{3} + 2y^2 + 9)dy = -52$$\n",
    "(b) We use the same coordinate transform to get\n",
    "$$I(f) = \\int_{-1}^1\\int_{-1}^13\\cdot e^{-[(u + 1)^2 + (3v+3)^2]}dudv = \\int_{-1}^1\\int_{-1}^1g(u,v)dudv $$\n",
    "$$I(f) \\approx g(\\frac{1}{\\sqrt{3}},\\frac{1}{\\sqrt{3}}) + g(\\frac{1}{\\sqrt{3}},-\\frac{1}{\\sqrt{3}}) + g(-\\frac{1}{\\sqrt{3}},\\frac{1}{\\sqrt{3}}) + g(-\\frac{1}{\\sqrt{3}},-\\frac{1}{\\sqrt{3}}) = 0.552653973778743$$\n",
    "We can not expect to get the exact solution using 2 point Gaussian quadrature, since the integrand function has an infinite degree. The exact solution is approxmately equal to $0.78172$."
   ]
  },
  {
   "cell_type": "markdown",
   "metadata": {},
   "source": [
    "# Problem 5\n",
    "Map the integral $\\iint_Axydxdy$ from the quadrilateral region shown to the standard region $[-1,\\;1]\\times[-1,\\;1]$ and then evaluate it analytically. Print the Jacobian. (The figure is a right trapezoid with top length equal to 4, bottom length equal to 2 and height equal to 4)"
   ]
  },
  {
   "cell_type": "markdown",
   "metadata": {},
   "source": [
    "$\\textbf{Solution:}$ \n",
    "\n",
    "$$x(u,v) = \\sum_{i = 1}^2\\sum_{j = 1}^2x_{ij}N_{ij}(u,v),\\quad N_{ij}(u,v) = N_i(u)N_j(v)$$\n",
    "$$N_1(u) = \\frac{1-u}{2},\\quad N_1(v) = \\frac{1-v}{2},\\quad N_2(u) = \\frac{1+u}{2},\\quad N_2(v) = \\frac{1+v}{2}$$\n",
    "Analytically, we can map using the following transformation (Note, from left bottom corner as 11 and clockwisely as 12, 22 and 21 respectively):\n",
    "$$x(u,v) = x_{11}N_{11}(u,v) + x_{12}N_{12}(u,v) + x_{21}N_{21}(u,v) + x_{22}N_{22}(u,v)$$\n",
    "$$y(u,v) = y_{11}N_{11}(u,v) + y_{12}N_{12}(u,v) + y_{21}N_{21}(u,v) + y_{22}N_{22}(u,v)$$\n",
    "That is,\n",
    "$$x(u,v) = \\frac{1}{2}(1+u)(1-v) + (1+u)(1+v)$$\n",
    "$$y(u,v) = (1-u)(1+v) + (1+u)(1+v)$$\n",
    "Jocobian matrix is given as\n",
    "$$J = \\begin{bmatrix}\n",
    "\\frac{\\partial x}{\\partial u} & \\frac{\\partial x}{\\partial v}\\\\\n",
    "\\frac{\\partial y}{\\partial u} & \\frac{\\partial y}{\\partial v}\n",
    "\\end{bmatrix} = \\begin{bmatrix}\n",
    "\\frac{3}{2} + \\frac{1}{2}v & \\frac{1}{2} + \\frac{1}{2}u\\\\\n",
    "0 & 2\n",
    "\\end{bmatrix} = 3 + v$$"
   ]
  },
  {
   "cell_type": "markdown",
   "metadata": {},
   "source": [
    "# Problem 6\n",
    "Map the quadrilateral region to the standard region and evaluate the following integrals using two point Gauss quadrature rule.\n",
    "\n",
    "(a) $\\iint_A(x + 3)ydxdy$ over the region in problem 5.\n",
    "\n",
    "(b) $\\iint_Ae^{xy}dxdy$ over the following region. （parallelogram with (-1,2), (3,2), (1,-2) and (-3,-2) as verticals）"
   ]
  },
  {
   "cell_type": "markdown",
   "metadata": {},
   "source": [
    "$\\textbf{Solution:}$\n",
    "\n",
    "(a) Using the results from problem 5 directly,\n",
    "$$\\iint_A(x+3)ydxdy = \\int_{-1}^1\\int_{-1}^1\\left(\\frac{1}{2}(1+u)(1-v) + (1+u)(1+v) + 3\\right)\\left((1-u)(1+v) + (1+u)(1+v)\\right)(3 + v)dudv$$\n",
    "$$I(f) \\approx g(\\frac{1}{\\sqrt{3}},\\frac{1}{\\sqrt{3}}) + g(\\frac{1}{\\sqrt{3}},-\\frac{1}{\\sqrt{3}}) + g(-\\frac{1}{\\sqrt{3}},\\frac{1}{\\sqrt{3}}) + g(-\\frac{1}{\\sqrt{3}},-\\frac{1}{\\sqrt{3}}) = \\frac{376}{3}$$\n",
    "\n",
    "(b) The transformation can be formulated as\n",
    "$$x(u,v) = 2u + v,\\quad y(u,v) = 2v$$\n",
    "The Jocobian is given as \n",
    "$$J = \\begin{bmatrix}\n",
    "2 & 1\\\\\n",
    "0 & 2\n",
    "\\end{bmatrix} = 4$$\n",
    "$$\\iint_A e^{xy}dxdy = \\int_{-1}^1\\int_{-1}^1 4e^{(2u+v)\\cdot 2v}dudv = \\int_{-1}^1\\int_{-1}^1g(u,v)dudv$$\n",
    "$$I(f) \\approx g(\\frac{1}{\\sqrt{3}},\\frac{1}{\\sqrt{3}}) + g(\\frac{1}{\\sqrt{3}},-\\frac{1}{\\sqrt{3}}) + g(-\\frac{1}{\\sqrt{3}},\\frac{1}{\\sqrt{3}}) + g(-\\frac{1}{\\sqrt{3}},-\\frac{1}{\\sqrt{3}}) = 8e^2 + 8e^{-\\frac{2}{3}} = 63.219785$$"
   ]
  },
  {
   "cell_type": "code",
   "execution_count": null,
   "metadata": {
    "collapsed": true
   },
   "outputs": [],
   "source": []
  }
 ],
 "metadata": {
  "kernelspec": {
   "display_name": "Python3",
   "language": "python",
   "name": "python3"
  },
  "language_info": {
   "codemirror_mode": {
    "name": "ipython",
    "version": 3
   },
   "file_extension": ".py",
   "mimetype": "text/x-python",
   "name": "python",
   "nbconvert_exporter": "python",
   "pygments_lexer": "ipython3",
   "version": "3.6.2"
  }
 },
 "nbformat": 4,
 "nbformat_minor": 2
}
