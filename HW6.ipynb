{
 "cells": [
  {
   "cell_type": "markdown",
   "metadata": {},
   "source": [
    "# ME 581 HW 6\n",
    "Yi Yang @ (yang1087@purdue.edu), all rights reserved."
   ]
  },
  {
   "cell_type": "markdown",
   "metadata": {},
   "source": [
    "## Problem 1\n",
    "Consider the ODE $y' = -5y$, with initial condition $y(0) = 1$.\n",
    "\n",
    "a. Is this ODE stable?\n",
    "\n",
    "b. Is Euler's method stable for this ODE using a step size $h = 0.5$?\n",
    "\n",
    "c. Calculate the numerical approximate solution for $t = 0$ to $t = 5$ given by Euler's method. Use time step size of $h = 0.5$ and $0.1$. Plot the analytical solution and numerical solution for each time step size.\n",
    "\n",
    "d. Is the backward Euler method stable for this ODE using a step size of $h = 0.5$?\n",
    "\n",
    "e. Calculate the numerical approximate solution for $t = 0$ to $t = 5$ given by the backward Euler method. Use a time step size, $h = 0.5$ and $0.1$. Plot the analytical and numerical solution for each time step size."
   ]
  },
  {
   "cell_type": "markdown",
   "metadata": {},
   "source": [
    "$\\textbf{Solution:}$\n",
    "\n",
    "a. This ODE is stable, since $\\lambda = -5 \\lt 0$.\n",
    "\n",
    "b. Euler's method is not stable for this ODE using a step size $h = 0.5$, since $h \\gt \\frac{-2}{\\lambda} = 0.4$.\n",
    "\n",
    "c. The code generating approximated solutions for $t = 0$ to $t = 5$ and numerical solutions for each step are given below:"
   ]
  },
  {
   "cell_type": "code",
   "execution_count": 33,
   "metadata": {},
   "outputs": [
    {
     "name": "stdout",
     "output_type": "stream",
     "text": [
      "[[  1.          -1.5          2.25        -3.375        5.0625      -7.59375\n",
      "   11.390625   -17.0859375   25.62890625 -38.44335938  57.66503906]]\n",
      "[[  1.00000000e+00   5.00000000e-01   2.50000000e-01   1.25000000e-01\n",
      "    6.25000000e-02   3.12500000e-02   1.56250000e-02   7.81250000e-03\n",
      "    3.90625000e-03   1.95312500e-03   9.76562500e-04   4.88281250e-04\n",
      "    2.44140625e-04   1.22070312e-04   6.10351562e-05   3.05175781e-05\n",
      "    1.52587891e-05   7.62939453e-06   3.81469727e-06   1.90734863e-06\n",
      "    9.53674316e-07   4.76837158e-07   2.38418579e-07   1.19209290e-07\n",
      "    5.96046448e-08   2.98023224e-08   1.49011612e-08   7.45058060e-09\n",
      "    3.72529030e-09   1.86264515e-09   9.31322575e-10   4.65661287e-10\n",
      "    2.32830644e-10   1.16415322e-10   5.82076609e-11   2.91038305e-11\n",
      "    1.45519152e-11   7.27595761e-12   3.63797881e-12   1.81898940e-12\n",
      "    9.09494702e-13   4.54747351e-13   2.27373675e-13   1.13686838e-13\n",
      "    5.68434189e-14   2.84217094e-14   1.42108547e-14   7.10542736e-15\n",
      "    3.55271368e-15   1.77635684e-15   8.88178420e-16]]\n"
     ]
    },
    {
     "data": {
      "image/png": "[encoded data removed]",
      "text/plain": [
       "<matplotlib.figure.Figure at 0x7f81e9e05a58>"
      ]
     },
     "metadata": {},
     "output_type": "display_data"
    }
   ],
   "source": [
    "import numpy as np\n",
    "from matplotlib import pyplot as plt\n",
    "\n",
    "def eulerForward(x,f,h,T):\n",
    "    # x - initial value, f - matrix function, h - step size, T - time range\n",
    "    N = int(np.floor((T[1] - T[0])/h) + 1)\n",
    "    y = np.empty((N,len(x)))\n",
    "    for i in range(N):\n",
    "        y[i] = np.copy(x)\n",
    "        for j in range(len(x)):\n",
    "            x[j] = x[j] + h*f[j](T[0] + i*h,x)\n",
    "    return y\n",
    "def F1(t,y):\n",
    "    return -5.*y[0]\n",
    "f1 = np.array([F1])\n",
    "x10 = np.array([1.])\n",
    "h11 = 0.5\n",
    "h12 = 0.1\n",
    "T = [0,5]\n",
    "y11 = eulerForward(np.copy(x10),np.copy(f1),np.copy(h11),np.copy(T)) \n",
    "y12 = eulerForward(np.copy(x10),np.copy(f1),np.copy(h12),np.copy(T))\n",
    "print(np.transpose(y11))\n",
    "print(np.transpose(y12))\n",
    "t1 = np.linspace(0,5,20)\n",
    "plt.figure(1)\n",
    "plt.plot(t1,np.exp(-5.*t1),'k',label='analytical')\n",
    "plt.plot(np.arange(T[0],T[1]+0.001,h11),np.transpose(y11)[0],'go',label='h = 0.5')\n",
    "plt.plot(np.arange(T[0],T[1]+0.001,h12),np.transpose(y12)[0],'r*',label='h = 0.1')\n",
    "plt.legend()\n",
    "plt.show()"
   ]
  },
  {
   "cell_type": "markdown",
   "metadata": {},
   "source": [
    "d. The backward Euler method is stable for this ODE, since $h > 0$ and $\\lambda \\lt 0$.\n",
    "\n",
    "e. The code generating the numerical approximated solutions for $t = 0$ to $t = 5$ using backward Euler and results are given below:"
   ]
  },
  {
   "cell_type": "code",
   "execution_count": 34,
   "metadata": {},
   "outputs": [
    {
     "name": "stdout",
     "output_type": "stream",
     "text": [
      "[[  1.00000000e+00   2.85714286e-01   8.16326531e-02   2.33236152e-02\n",
      "    6.66389005e-03   1.90396858e-03   5.43991024e-04   1.55426007e-04\n",
      "    4.44074305e-05   1.26878373e-05   3.62509637e-06]]\n",
      "[[  1.00000000e+00   6.66666667e-01   4.44444444e-01   2.96296296e-01\n",
      "    1.97530864e-01   1.31687243e-01   8.77914952e-02   5.85276635e-02\n",
      "    3.90184423e-02   2.60122949e-02   1.73415299e-02   1.15610199e-02\n",
      "    7.70734663e-03   5.13823109e-03   3.42548739e-03   2.28365826e-03\n",
      "    1.52243884e-03   1.01495923e-03   6.76639485e-04   4.51092990e-04\n",
      "    3.00728660e-04   2.00485773e-04   1.33657182e-04   8.91047881e-05\n",
      "    5.94031921e-05   3.96021280e-05   2.64014187e-05   1.76009458e-05\n",
      "    1.17339639e-05   7.82264258e-06   5.21509505e-06   3.47673003e-06\n",
      "    2.31782002e-06   1.54521335e-06   1.03014223e-06   6.86761488e-07\n",
      "    4.57840992e-07   3.05227328e-07   2.03484885e-07   1.35656590e-07\n",
      "    9.04377268e-08   6.02918179e-08   4.01945453e-08   2.67963635e-08\n",
      "    1.78642423e-08   1.19094949e-08   7.93966326e-09   5.29310884e-09\n",
      "    3.52873923e-09   2.35249282e-09   1.56832855e-09]]\n"
     ]
    },
    {
     "data": {
      "image/png": "[encoded data removed]",
      "text/plain": [
       "<matplotlib.figure.Figure at 0x7f81e9e2de48>"
      ]
     },
     "metadata": {},
     "output_type": "display_data"
    }
   ],
   "source": [
    "# This is a simplified version\n",
    "# for general case, use sympy...\n",
    "from sympy.solvers import solve\n",
    "from sympy import Symbol, Function\n",
    "\n",
    "def eulerBackward(x,f,h,T):\n",
    "    # x - initial value, f - matrix function, h - step size, T - time range\n",
    "    N = int(np.floor((T[1] - T[0])/h) + 1)\n",
    "    y = np.empty((N,len(x)))\n",
    "    for i in range(N):\n",
    "        y[i] = np.copy(x)\n",
    "        for j in range(len(x)):\n",
    "            #fj = np.copy(f[j])\n",
    "            #ff = Function('fj')\n",
    "            #ynew = Symbol('ynew')\n",
    "            #x[j] = solve(x[j] + h*ff(T[0] + (i+1)*h,ynew) - ynew,ynew)\n",
    "            x[j] = 1./(1 + 5.*h)*x[j]\n",
    "    return y\n",
    "\n",
    "yb11 = eulerBackward(np.copy(x10),np.copy(f1),np.copy(h11),np.copy(T)) \n",
    "yb12 = eulerBackward(np.copy(x10),np.copy(f1),np.copy(h12),np.copy(T))\n",
    "print(np.transpose(yb11))\n",
    "print(np.transpose(yb12))\n",
    "plt.figure(2)\n",
    "plt.plot(t1,np.exp(-5.*t1),'k',label='analytical')\n",
    "plt.plot(np.arange(T[0],T[1]+0.001,h11),np.transpose(yb11)[0],'go',label='h = 0.5')\n",
    "plt.plot(np.arange(T[0],T[1]+0.001,h12),np.transpose(yb12)[0],'r*',label='h = 0.1')\n",
    "plt.legend()\n",
    "plt.show()"
   ]
  },
  {
   "cell_type": "markdown",
   "metadata": {},
   "source": [
    "## Problem 2\n",
    "Consider the initial value problem with a step size of $h = 0.08$.\n",
    "$$y'' + 6y' + 8.96y = 0$$\n",
    "$$y(0) = 1$$\n",
    "$$y'(0) = 5$$\n",
    "a. Write the analytical solution.\n",
    "\n",
    "b. Perfome numerical integration from $t = 0$ to $8$ using 4th order Runge-Kutta method.\n",
    "\n",
    "c. Perform numerical integration from $t = 0$ to $8$ using Euler's method.\n",
    "\n",
    "d. Perform numerical integration from $t = 0$ to $8$ using Taylor series method of order 2.\n",
    "\n",
    "e. Plot analytical, Euler, Taylor and Runge-Kutta solutions in the same plot."
   ]
  },
  {
   "cell_type": "markdown",
   "metadata": {
    "collapsed": true
   },
   "source": [
    "$\\textbf{Solution:}$\n",
    "\n",
    "a. The analytical solution is given as\n",
    "$$y(t) = \\frac{41}{2}e^{-\\frac{14}{5}t} - \\frac{39}{2}e^{-\\frac{16}{5}t}$$\n",
    "$$y'(t) = -\\frac{287}{5}e^{-\\frac{14}{5}t} + \\frac{312}{5}e^{-\\frac{16}{5}t}$$\n",
    "\n",
    "b. The code using 4th order Runge-Kutta method is given below, the second order ODE can be converted to two first order system of ODEs.\n",
    "$$y_1' = y_2$$\n",
    "$$y_2' = -8.96y_1 - 6y_2$$"
   ]
  },
  {
   "cell_type": "code",
   "execution_count": 35,
   "metadata": {},
   "outputs": [
    {
     "name": "stdout",
     "output_type": "stream",
     "text": [
      "[[  1.00000000e+00   1.29011340e+00   1.41116135e+00   1.42210632e+00\n",
      "    1.36442415e+00   1.26689030e+00   1.14911704e+00   1.02415765e+00\n",
      "    9.00415129e-01   7.83034042e-01   6.74909493e-01   5.77413418e-01\n",
      "    4.90913041e-01   4.15137235e-01   3.49432153e-01   2.92936759e-01\n",
      "    2.44700833e-01   2.03762036e-01   1.69194148e-01   1.40135278e-01\n",
      "    1.15802404e-01   9.54967991e-02   7.86035647e-02   6.45875452e-02\n",
      "    5.29871837e-02   4.34073858e-02   3.55120903e-02   2.90169972e-02\n",
      "    2.36827211e-02   1.93085196e-02   1.57266606e-02   1.27974406e-02\n",
      "    1.04048323e-02   8.45271739e-03   6.86165378e-03   5.56611911e-03\n",
      "    4.51217412e-03   3.65549183e-03   2.95970234e-03   2.39500796e-03\n",
      "    1.93702836e-03   1.56584046e-03   1.26518227e-03   1.02179432e-03\n",
      "    8.24876036e-04   6.65637928e-04   5.36933313e-04   4.32955981e-04\n",
      "    3.48992359e-04   2.81218624e-04   2.26534835e-04   1.82429488e-04\n",
      "    1.46869023e-04   1.18207805e-04   9.51148261e-05   7.65140940e-05\n",
      "    6.15361873e-05   4.94789141e-05   3.97753891e-05   3.19681469e-05\n",
      "    2.56881644e-05   2.06378719e-05   1.65774010e-05   1.33134603e-05\n",
      "    1.06903411e-05   8.58264712e-06   6.88942329e-06   5.52941388e-06\n",
      "    4.43723592e-06   3.56029177e-06   2.85627916e-06   2.29118387e-06\n",
      "    1.83766185e-06   1.47373592e-06   1.18174589e-06   9.47503371e-07\n",
      "    7.59611353e-07   6.08916668e-07   4.88069476e-07   3.91168951e-07\n",
      "    3.13478348e-07   2.51195938e-07   2.01270882e-07   1.61255260e-07\n",
      "    1.29185182e-07   1.03485289e-07   8.28920349e-08   6.63920974e-08\n",
      "    5.31729139e-08   4.25829809e-08   3.40999848e-08   2.73052277e-08\n",
      "    2.18631047e-08   1.75046396e-08   1.40142764e-08   1.12192847e-08\n",
      "    8.98126357e-09   7.18932738e-09   5.75464266e-09   4.60604791e-09\n",
      "    3.68654224e-09]\n",
      " [  5.00000000e+00   2.42605836e+00   7.23361454e-01  -3.63042313e-01\n",
      "   -1.01884801e+00  -1.37847883e+00  -1.53853870e+00  -1.56785082e+00\n",
      "   -1.51492849e+00  -1.41351860e+00  -1.28670117e+00  -1.14990951e+00\n",
      "   -1.01314574e+00  -8.82597832e-01  -7.61813156e-01  -6.52544293e-01\n",
      "   -5.55353792e-01  -4.70042321e-01  -3.95948138e-01  -3.32153351e-01\n",
      "   -2.77623172e-01  -2.31297373e-01  -1.92148044e-01  -1.59213855e-01\n",
      "   -1.31618249e-01  -1.08576856e-01  -8.93978986e-02  -7.34782505e-02\n",
      "   -6.02969774e-02  -4.94076155e-02  -4.04300183e-02  -3.30423058e-02\n",
      "   -2.69732411e-02  -2.19952191e-02  -1.79179489e-02  -1.45828547e-02\n",
      "   -1.18581726e-02  -9.63470202e-03  -7.82215348e-03  -6.34603207e-03\n",
      "   -5.14499271e-03  -4.16860777e-03  -3.37549080e-03  -2.73172577e-03\n",
      "   -2.20955651e-03  -1.78629650e-03  -1.44342457e-03  -1.16583644e-03\n",
      "   -9.41226809e-04  -7.59580037e-04  -6.12751291e-04  -4.94122520e-04\n",
      "   -3.98320395e-04  -3.20985347e-04  -2.58582709e-04  -2.08248462e-04\n",
      "   -1.67663387e-04  -1.34950497e-04  -1.08591530e-04  -8.73590130e-05\n",
      "   -7.02610443e-05  -5.64964485e-05  -4.54183834e-05  -3.65048239e-05\n",
      "   -2.93346409e-05  -2.35682266e-05  -1.89318099e-05  -1.52047675e-05\n",
      "   -1.22093631e-05  -9.80245386e-06  -7.86879155e-06  -6.31561187e-06\n",
      "   -5.06826807e-06  -4.06670765e-06  -3.26263072e-06  -2.61719895e-06\n",
      "   -2.09918907e-06  -1.68350511e-06  -1.34998005e-06  -1.08241095e-06\n",
      "   -8.67782158e-07  -6.95640241e-07  -5.57591017e-07  -4.46895019e-07\n",
      "   -3.58142160e-07  -2.86990174e-07  -2.29954357e-07  -1.84238604e-07\n",
      "   -1.47599635e-07  -1.18237931e-07  -9.47101302e-08  -7.58586751e-08\n",
      "   -6.07553285e-08  -4.86558251e-08  -3.89634736e-08  -3.11999443e-08\n",
      "   -2.49818288e-08  -2.00018328e-08  -1.60136884e-08  -1.28200524e-08\n",
      "   -1.02628002e-08]]\n"
     ]
    }
   ],
   "source": [
    "def rungeKutta(x,f,h,T):\n",
    "    # x - initial value, f - matrix function, h - step size, T - time range\n",
    "    N = int(np.floor((T[1] - T[0])/h) + 1)\n",
    "    y = np.empty((N,len(x)))\n",
    "    for i in range(N):\n",
    "        y[i] = np.copy(x)\n",
    "        K1 = f(T[0] + i*h,x)\n",
    "        K2 = f(T[0] + i*h + h/2,x + h/2*K1)\n",
    "        K3 = f(T[0] + i*h + h/2,x + h/2*K2)\n",
    "        K4 = f(T[0] + i*h + h, x + h*K3)\n",
    "        x = x + h/6*(K1 + 2*K2 + 2*K3 + K4)\n",
    "    return y\n",
    "x20 = np.array([1,5])\n",
    "#f2 = lambda t,y : [y[1], -8.96*y[0] - 6*y[1]]\n",
    "def f2(t,y):\n",
    "    return np.array([y[1], -8.96*y[0] - 6*y[1]])\n",
    "h2 = 0.08\n",
    "T2 = [0, 8]\n",
    "y21 = rungeKutta(np.copy(x20),f2,np.copy(h2),np.copy(T2))\n",
    "print(np.transpose(y21))"
   ]
  },
  {
   "cell_type": "markdown",
   "metadata": {},
   "source": [
    "c. The code using Euler's method and results are shown below:"
   ]
  },
  {
   "cell_type": "code",
   "execution_count": 36,
   "metadata": {},
   "outputs": [
    {
     "name": "stdout",
     "output_type": "stream",
     "text": [
      "[[  1.00000000e+00   1.40000000e+00   1.55065600e+00   1.54871552e+00\n",
      "    1.45878565e+00   1.32321258e+00   1.16906198e+00   1.01302536e+00\n",
      "    8.64847630e-01   7.29704285e-01   6.09835922e-01   5.05660211e-01\n",
      "    4.16518410e-01   3.41168095e-01   2.78101099e-01   2.25742318e-01\n",
      "    1.82568322e-01   1.47172877e-01   1.18298048e-01   9.48436551e-02\n",
      "    7.58636876e-02   6.05553900e-02   4.82447479e-02   3.83707257e-02\n",
      "    3.04696874e-02   2.41608165e-02   1.91329499e-02   1.51329815e-02\n",
      "    1.19558380e-02   9.43593766e-03   7.43999392e-03   5.86100878e-03\n",
      "    4.61329749e-03   3.62839393e-03   2.85169915e-03   2.23975124e-03\n",
      "    1.75801049e-03   1.37906901e-03   1.08120808e-03   8.47239068e-04\n",
      "    6.63574384e-04   5.19484672e-04   4.06506012e-04   3.17967779e-04\n",
      "    2.48617218e-04   1.94321382e-04   1.51830841e-04   1.18592595e-04\n",
      "    9.26021186e-05   7.22864974e-05   5.64121985e-05   4.40123662e-05\n",
      "    3.43295522e-05   2.67706439e-05   2.08714177e-05   1.62686842e-05\n",
      "    1.26784123e-05   9.87855944e-06   7.69560509e-06   5.99399271e-06\n",
      "    4.66785750e-06   3.63454767e-06   2.82955294e-06   2.20253618e-06\n",
      "    1.71422958e-06   1.33400791e-06   1.03799186e-06   8.07566168e-07\n",
      "    6.28222201e-07   4.88654265e-07   3.80054164e-07   2.95560721e-07\n",
      "    2.29830305e-07   1.78701854e-07   1.38935671e-07   1.08009777e-07\n",
      "    8.39611845e-08   6.52622039e-08   5.07240639e-08   3.94218352e-08\n",
      "    3.06359556e-08   2.38066925e-08   1.84986874e-08   1.43733538e-08\n",
      "    1.11673916e-08   8.67606565e-09   6.74019326e-09   5.23601930e-09\n",
      "    4.06733920e-09   3.15937126e-09   2.45399043e-09   1.90602141e-09\n",
      "    1.48035590e-09   1.14971094e-09   8.92886030e-10   6.93408054e-10\n",
      "    5.38477850e-10   4.18151352e-10   3.24703100e-10   2.52131537e-10\n",
      "    1.95774550e-10]\n",
      " [  5.00000000e+00   1.88320000e+00  -2.42560000e-02  -1.12412334e+00\n",
      "   -1.69466342e+00  -1.92688254e+00  -1.95045769e+00  -1.85222163e+00\n",
      "   -1.68929182e+00  -1.49835453e+00  -1.30219639e+00  -1.11427251e+00\n",
      "   -9.41878945e-01  -7.88337448e-01  -6.54484763e-01  -5.39674945e-01\n",
      "   -4.42443065e-01  -3.60935367e-01  -2.93179909e-01  -2.37249594e-01\n",
      "   -1.91353721e-01  -1.53883026e-01  -1.23425277e-01  -9.87629793e-02\n",
      "   -7.88608855e-02  -6.28483323e-02  -4.99996061e-02  -3.97142937e-02\n",
      "   -3.14987538e-02  -2.49492966e-02  -1.97373144e-02  -1.55963911e-02\n",
      "   -1.23112945e-02  -9.70868476e-03  -7.64934884e-03  -6.02175935e-03\n",
      "   -4.73676855e-03  -3.72326157e-03  -2.92461268e-03  -2.29580855e-03\n",
      "   -1.80112141e-03  -1.41223325e-03  -1.10672790e-03  -8.66882019e-04\n",
      "   -6.78697954e-04  -5.31131758e-04  -4.15478080e-04  -3.24880949e-04\n",
      "   -2.53945265e-04  -1.98428736e-04  -1.54997904e-04  -1.21035174e-04\n",
      "   -9.44863546e-05  -7.37403274e-05  -5.75341678e-05  -4.48783994e-05\n",
      "   -3.49981606e-05  -2.72869294e-05  -2.12701547e-05  -1.65766902e-05\n",
      "   -1.29163729e-05  -1.00624341e-05  -7.83770953e-06  -6.10383250e-06\n",
      "   -4.75277083e-06  -3.70020059e-06  -2.88032118e-06  -2.24179958e-06\n",
      "   -1.74459921e-06  -1.35750126e-06  -1.05616803e-06  -8.21630202e-07\n",
      "   -6.39105630e-07  -4.97077290e-07  -3.86573680e-07  -3.00607403e-07\n",
      "   -2.33737257e-07  -1.81726751e-07  -1.41277858e-07  -1.09823495e-07\n",
      "   -8.53657890e-08  -6.63500633e-08  -5.15666701e-08  -4.00745276e-08\n",
      "   -3.11415743e-08  -2.41984050e-08  -1.88021744e-08  -1.46085012e-08\n",
      "   -1.13495993e-08  -8.81726036e-09  -6.84961271e-09  -5.32081895e-09\n",
      "   -4.13306200e-09  -3.21031135e-09  -2.49347470e-09  -1.93662755e-09\n",
      "   -1.50408122e-09  -1.16810316e-09  -9.07144531e-10  -7.04462338e-10\n",
      "   -5.47048302e-10]]\n"
     ]
    }
   ],
   "source": [
    "def eulerForwardM(x,f,h,T):\n",
    "    # x - initial value, f - matrix function, h - step size, T - time range\n",
    "    N = int(np.floor((T[1] - T[0])/h) + 1)\n",
    "    y = np.empty((N,len(x)))\n",
    "    for i in range(N):\n",
    "        y[i] = np.copy(x)\n",
    "        x = x + h*f(T[0] + i*h,x)\n",
    "    return y\n",
    "y22 = eulerForwardM(np.copy(x20),f2,np.copy(h2),np.copy(T2))\n",
    "print(np.transpose(y22))"
   ]
  },
  {
   "cell_type": "markdown",
   "metadata": {},
   "source": [
    "d. The code using second order Taylor series and the results are shown below:"
   ]
  },
  {
   "cell_type": "code",
   "execution_count": 37,
   "metadata": {},
   "outputs": [
    {
     "name": "stdout",
     "output_type": "stream",
     "text": [
      "[[  1.00000000e+00   1.27532800e+00   1.39002441e+00   1.39967337e+00\n",
      "    1.34352709e+00   1.24893220e+00   1.13461264e+00   1.01309540e+00\n",
      "    8.92495138e-01   7.77820547e-01   6.71925218e-01   5.76194993e-01\n",
      "    4.91040862e-01   4.16248948e-01   3.51226047e-01   2.95169254e-01\n",
      "    2.47180825e-01   2.06343869e-01   1.71770289e-01   1.42629344e-01\n",
      "    1.18162868e-01   9.76915222e-02   8.06151847e-02   6.64096728e-02\n",
      "    5.46213342e-02   4.48605486e-02   3.67948404e-02   3.01420560e-02\n",
      "    2.46638841e-02   2.01598761e-02   1.64620447e-02   1.34300611e-02\n",
      "    1.09470384e-02   8.91586681e-03   7.25605503e-03   5.90102694e-03\n",
      "    4.79582141e-03   3.89514538e-03   3.16173296e-03   2.56496801e-03\n",
      "    2.07973172e-03   1.68544140e-03   1.36525096e-03   1.10538746e-03\n",
      "    8.94601816e-04   7.23714972e-04   5.85243511e-04   4.73091451e-04\n",
      "    3.82296837e-04   3.08823697e-04   2.49391475e-04   2.01335349e-04\n",
      "    1.62491968e-04   1.31106088e-04   1.05754353e-04   8.52831290e-05\n",
      "    6.87578433e-05   5.54217363e-05   4.46622964e-05   3.59839691e-05\n",
      "    2.89859823e-05   2.33443386e-05   1.87972012e-05   1.51330396e-05\n",
      "    1.21810200e-05   9.80321738e-06   7.88830969e-06   6.34647140e-06\n",
      "    5.10524215e-06   4.10618468e-06   3.30218259e-06   2.65525609e-06\n",
      "    2.13479719e-06   1.71614417e-06   1.37943048e-06   1.10865562e-06\n",
      "    8.90935160e-07   7.15895872e-07   5.75187709e-07   4.62090353e-07\n",
      "    3.71196007e-07   2.98153723e-07   2.39463391e-07   1.92309755e-07\n",
      "    1.54428724e-07   1.23999713e-07   9.95589468e-08   7.99296792e-08\n",
      "    6.41660211e-08   5.15077373e-08   4.13438746e-08   3.31835006e-08\n",
      "    2.66321657e-08   2.13729733e-08   1.71513553e-08   1.37628327e-08\n",
      "    1.10431740e-08   8.86048466e-09   7.10884867e-09   5.70321856e-09\n",
      "    4.57530885e-09]\n",
      " [  5.00000000e+00   2.48787200e+00   8.14206145e-01  -2.63401995e-01\n",
      "   -9.22257946e-01  -1.29128583e+00  -1.46357931e+00  -1.50580249e+00\n",
      "   -1.46521333e+00  -1.37489570e+00  -1.25764448e+00  -1.12883995e+00\n",
      "   -9.98565631e-01  -8.73161363e-01  -7.56355922e-01  -6.50087756e-01\n",
      "   -5.55095190e-01  -4.71336979e-01  -3.98288612e-01  -3.35148152e-01\n",
      "   -2.80976641e-01  -2.34791549e-01  -1.95626864e-01  -1.62569743e-01\n",
      "   -1.34780966e-01  -1.11504385e-01  -9.20691228e-02  -7.58871525e-02\n",
      "   -6.24481104e-02  -5.13126223e-02  -4.21049976e-02  -3.45058552e-02\n",
      "   -2.82450349e-02  -2.30950007e-02  -1.88648435e-02  -1.53949224e-02\n",
      "   -1.25521421e-02  -1.02258357e-02  -8.32420624e-03  -6.77127510e-03\n",
      "   -5.50428044e-03  -4.47147150e-03  -3.63024721e-03  -2.94559161e-03\n",
      "   -2.38876350e-03  -1.93620239e-03  -1.56861772e-03  -1.27023251e-03\n",
      "   -1.02815667e-03  -8.31868889e-04  -6.72789041e-04  -5.43925887e-04\n",
      "   -4.39587336e-04  -3.55142452e-04  -2.86826243e-04  -2.31579735e-04\n",
      "   -1.86919113e-04  -1.50828749e-04  -1.21673848e-04  -9.81291854e-05\n",
      "   -7.91210134e-05  -6.37797456e-05  -5.14014502e-05  -4.14165325e-05\n",
      "   -3.33642823e-05  -2.68722013e-05  -2.16392216e-05  -1.74220925e-05\n",
      "   -1.40243415e-05  -1.12873283e-05  -9.08299870e-06  -7.30801644e-06\n",
      "   -5.87901515e-06  -4.72875650e-06  -3.80302364e-06  -3.05810991e-06\n",
      "   -2.45878939e-06  -1.97667758e-06  -1.58890746e-06  -1.27706072e-06\n",
      "   -1.02630512e-06  -8.24698500e-07  -6.62627339e-07  -5.32354028e-07\n",
      "   -4.27651824e-07  -3.43510633e-07  -2.75899893e-07  -2.21577539e-07\n",
      "   -1.77936113e-07  -1.42878830e-07  -1.14719778e-07  -9.21035773e-08\n",
      "   -7.39407078e-08  -5.93554613e-08  -4.76440611e-08  -3.82409666e-08\n",
      "   -3.06917679e-08  -2.46313844e-08  -1.97665328e-08  -1.58616289e-08\n",
      "   -1.27274530e-08]]\n"
     ]
    }
   ],
   "source": [
    "def df2(t, y):\n",
    "    return np.array([-8.96*y[0] - 6*y[1], 53.76*y[0] + 27.04*y[1]])\n",
    "def taylorSeries(x,f,df,h,T):\n",
    "    # x - initial value, f - matrix function, h - step size, T - time range\n",
    "    N = int(np.floor((T[1] - T[0])/h) + 1)\n",
    "    y = np.empty((N,len(x)))\n",
    "    for i in range(N):\n",
    "        y[i] = np.copy(x)\n",
    "        x = x + h*f(T[0] + i*h,x) + h**2/2*df(T[0] + i*h,x)\n",
    "    return y\n",
    "y23 = taylorSeries(np.copy(x20),f2,df2,np.copy(h2),np.copy(T2))\n",
    "print(np.transpose(y23))"
   ]
  },
  {
   "cell_type": "markdown",
   "metadata": {},
   "source": [
    "e. Plots for analytical, Euler, Taylor and Runge-Kutta solutions are shown below:"
   ]
  },
  {
   "cell_type": "code",
   "execution_count": 38,
   "metadata": {},
   "outputs": [
    {
     "data": {
      "image/png": "[encoded data removed]",
      "text/plain": [
       "<matplotlib.figure.Figure at 0x7f81e9bc94e0>"
      ]
     },
     "metadata": {},
     "output_type": "display_data"
    }
   ],
   "source": [
    "plt.figure(3)\n",
    "t2 = np.linspace(0,8,101)\n",
    "plt.plot(t2,41./2*np.exp(-14./5*t2) - 39./2*np.exp(-16./5*t2),'k-',label='analytical')\n",
    "plt.plot(np.arange(T2[0],T2[1]+0.001,h2),np.transpose(y21)[0],'r*',label='Runge-Kutta')\n",
    "plt.plot(np.arange(T2[0],T2[1]+0.001,h2),np.transpose(y22)[0],'go',label='Euler')\n",
    "plt.plot(np.arange(T2[0],T2[1]+0.001,h2),np.transpose(y23)[0],'b--',label='Taylor')\n",
    "plt.legend()\n",
    "plt.show()"
   ]
  },
  {
   "cell_type": "markdown",
   "metadata": {},
   "source": [
    "## Problem 3\n",
    "Consider the system of differential equaitons\n",
    "$$\\frac{dy_1}{dt} = -0.013y_1 - 1000y_1y_3$$\n",
    "$$\\frac{dy_2}{dt} = -2500y_2y_3$$\n",
    "$$\\frac{dy_3}{dt} = -0.013y_1 - 1000y_1y_3 - 2500y_2y_3$$\n",
    "Initial conditions: $y_1(0) = 1$, $y_2(0) = 1$ and $y_3(0) = 0$.\n",
    "\n",
    "Approximate the solution from $t = 0$ to $5$ using the Runge-Kutta 4th order method and Euler method with a step size of $h = 0.0001$."
   ]
  },
  {
   "cell_type": "markdown",
   "metadata": {},
   "source": [
    "$\\textbf{Solution:}$ Code using 4th order Runge-Kutta and Euler method with a step size of $h = 0.0001$ is given below:"
   ]
  },
  {
   "cell_type": "code",
   "execution_count": 39,
   "metadata": {},
   "outputs": [
    {
     "name": "stdout",
     "output_type": "stream",
     "text": [
      "[[  1.00000000e+00   9.99998758e-01   9.99997609e-01 ...,   9.54057475e-01\n",
      "    9.54056567e-01   9.54055658e-01]\n",
      " [  1.00000000e+00   1.00000015e+00   1.00000052e+00 ...,   1.04593905e+00\n",
      "    1.04593996e+00   1.04594087e+00]\n",
      " [  0.00000000e+00  -1.09671857e-06  -1.86960722e-06 ...,  -3.47523770e-06\n",
      "   -3.47523306e-06  -3.47522843e-06]]\n",
      "[[  1.00000000e+00   9.99998700e-01   9.99997530e-01 ...,   9.54057466e-01\n",
      "    9.54056557e-01   9.54055648e-01]\n",
      " [  1.00000000e+00   1.00000000e+00   1.00000033e+00 ...,   1.04593906e+00\n",
      "    1.04593997e+00   1.04594088e+00]\n",
      " [  0.00000000e+00  -1.30000000e-06  -2.14499848e-06 ...,  -3.47523765e-06\n",
      "   -3.47523301e-06  -3.47522838e-06]]\n"
     ]
    }
   ],
   "source": [
    "x30 = np.array([1.,1.,0.])\n",
    "T3 = [0, 5]\n",
    "h3 = 0.0001\n",
    "def f3(t,y):\n",
    "    return np.array([-0.013*y[0] - 1000.*y[0]*y[2], -2500.*y[1]*y[2],\\\n",
    "                     -0.013*y[0] - 1000.*y[0]*y[2] - 2500.*y[1]*y[2]])\n",
    "y31 = rungeKutta(np.copy(x30),f3,np.copy(h3),np.copy(T3))\n",
    "print(np.transpose(y31))\n",
    "y32 = eulerForwardM(np.copy(x30),f3,np.copy(h3),np.copy(T3))\n",
    "print(np.transpose(y32))"
   ]
  },
  {
   "cell_type": "code",
   "execution_count": 40,
   "metadata": {},
   "outputs": [
    {
     "data": {
      "image/png": "[encoded data removed]",
      "text/plain": [
       "<matplotlib.figure.Figure at 0x7f81e9c70278>"
      ]
     },
     "metadata": {},
     "output_type": "display_data"
    }
   ],
   "source": [
    "plt.figure(4)\n",
    "plt.plot(np.arange(0,5.000001,0.0001),np.transpose(y31)[0],'r*',label='y1_rk4')\n",
    "plt.plot(np.arange(0,5.000001,0.0001),np.transpose(y32)[0],'k-',label='y1_eul')\n",
    "plt.plot(np.arange(0,5.000001,0.0001),np.transpose(y31)[1],'y*',label='y2_rk4')\n",
    "plt.plot(np.arange(0,5.000001,0.0001),np.transpose(y32)[1],'k--',label='y2_eul')\n",
    "plt.plot(np.arange(0,5.000001,0.0001),np.transpose(y31)[2],'g*',label='y3_rk4')\n",
    "plt.plot(np.arange(0,5.000001,0.0001),np.transpose(y32)[2],'r-',label='y3_eul')\n",
    "plt.legend()\n",
    "plt.show()"
   ]
  },
  {
   "cell_type": "markdown",
   "metadata": {},
   "source": [
    "## Problem 4\n",
    "Approximate the solution from $t = 0$ to $5$ using the 2nd order Runge-Kutta method (Heun method) for initial value problems given in (a), (b) and (c).\n",
    "\n",
    "(a) $$y' = -200y + 200\\sin(t) + \\cos(t),\\quad y(0) = 1$$\n",
    "\n",
    "(i) Determine the maximum allowable time step to maintain absolute stability\n",
    "\n",
    "(ii) Compute the approximate solution using a step size, $h = 0.008$ and plot the solution with time.\n",
    "\n",
    "(iii) Compute the approximate solution using a step size, $h = 0.012$ and plot the solution with time.\n",
    "\n",
    "(b)\n",
    "$$u_1' = 9u_1 + 24u_2 + 5\\cos(t) - \\frac{1}{3}\\sin(t),\\quad u_1(0) = \\frac{4}{3}$$\n",
    "$$u_2' = -24u_1 - 51u_2 - 9\\cos(t) + \\frac{1}{3}\\sin(t),\\quad u_2(0) = \\frac{2}{3}$$\n",
    "\n",
    "(i) Determine the maximum allowable time step to maintain abosulte stability\n",
    "\n",
    "(ii) Compute the approximate solution using a step size, $h = 0.04$ and plot the solution with time\n",
    "\n",
    "(iii) Compute the approximate solution using a step size, $h = 0.06$ and plot the solution with time\n",
    "\n",
    "(c)\n",
    "$$u_1' = -20u_1 - 19u_2\\quad u_1(0) = 2$$\n",
    "$$u_2' = -19u_1 - 20u_2\\quad u_2(0) = 0$$\n",
    "\n",
    "(i) Determine the maximum allowable time step to maintain abosulte stability\n",
    "\n",
    "(ii) Compute the approximate solution using a step size, $h = 0.04$ and plot the solution with time\n",
    "\n",
    "(iii) Compute the approximate solution using a step size, $h = 0.06$ and plot the solution with time"
   ]
  },
  {
   "cell_type": "markdown",
   "metadata": {},
   "source": [
    "$\\textbf{Solution:}$\n",
    "\n",
    "(a) \n",
    "\n",
    "(i) Using $y' = \\lambda y$ to analyze the stability of ODE, we get\n",
    "$$y_{k+1} = (1 + h\\lambda + \\frac{1}{2}h^2\\lambda^2)y_k$$\n",
    "That is, $h\\gt 0$ and $h \\lt -\\frac{2}{\\lambda}$. The maximum allowable time step size is $0.01$.\n",
    "\n",
    "(ii) The code using Heun method is given below:"
   ]
  },
  {
   "cell_type": "code",
   "execution_count": 41,
   "metadata": {},
   "outputs": [
    {
     "data": {
      "image/png": "[encoded data removed]",
      "text/plain": [
       "<matplotlib.figure.Figure at 0x7f81e9f91ef0>"
      ]
     },
     "metadata": {},
     "output_type": "display_data"
    }
   ],
   "source": [
    "def rungeKutta2(x,f,h,T):\n",
    "    # x - initial value, f - matrix function, h - step size, T - time range\n",
    "    N = int(np.floor((T[1] - T[0])/h) + 1)\n",
    "    y = np.empty((N,len(x)))\n",
    "    for i in range(N):\n",
    "        y[i] = np.copy(x)\n",
    "        K1 = f(T[0] + i*h,x)\n",
    "        K2 = f(T[0] + i*h + h,x + h*K1)\n",
    "        x = x + h/2*(K1 + K2)\n",
    "    return y\n",
    "def f41(t,y):\n",
    "    return np.array([-200.*y[0] + 200.*np.sin(t) + np.cos(t)])\n",
    "x410 = np.array([1.])\n",
    "h411 = 0.008\n",
    "T4 = [0, 5]\n",
    "y411 = rungeKutta2(np.copy(x410),f41,np.copy(h411),np.copy(T4))\n",
    "#print(np.transpose(y411)[0])\n",
    "plt.figure(5)\n",
    "plt.plot(np.arange(T[0],T[1]+0.000001,h411),np.transpose(y411)[0],'r*',label='h=0.008')\n",
    "plt.legend()\n",
    "plt.show()"
   ]
  },
  {
   "cell_type": "markdown",
   "metadata": {},
   "source": [
    "(iii) Results for the step size set to $h = 0.012$ is given below,"
   ]
  },
  {
   "cell_type": "code",
   "execution_count": 42,
   "metadata": {},
   "outputs": [
    {
     "data": {
      "image/png": "[encoded data removed]",
      "text/plain": [
       "<matplotlib.figure.Figure at 0x7f81e9bc96a0>"
      ]
     },
     "metadata": {},
     "output_type": "display_data"
    }
   ],
   "source": [
    "h412 = 0.012\n",
    "y412 = rungeKutta2(np.copy(x410),f41,np.copy(h412),np.copy(T4))\n",
    "#print(np.transpose(y411)[0])\n",
    "plt.figure(6)\n",
    "plt.plot(np.arange(T[0],T[1]+0.000001,h412),np.transpose(y412)[0],'b*',label='h=0.012')\n",
    "plt.legend()\n",
    "plt.show()"
   ]
  },
  {
   "cell_type": "markdown",
   "metadata": {},
   "source": [
    "(b)\n",
    "\n",
    "(i) We apply the normal form of $y' = Ay$ to analyze the stability of the numerical algorithm, that is\n",
    "$$|I + hA + \\frac{1}{2}h^2A^2| < 1$$\n",
    "Where $I$ is the identity matrix and $A$ is the coefficient matrix. For this problem, we have\n",
    "$$A = \\begin{pmatrix}\n",
    "9 & 24\\\\\n",
    "-24 & -51\n",
    "\\end{pmatrix}$$\n",
    "Then, we have $h \\lt \\frac{2}{39} \\approx 0.0513$, which means the maximum allowable time step to maintain absolute stability is $h = 0.0513$\n",
    "\n",
    "(ii) Code to generate results for $h = 0.04$ is given below:"
   ]
  },
  {
   "cell_type": "code",
   "execution_count": 43,
   "metadata": {},
   "outputs": [
    {
     "data": {
      "image/png": "[encoded data removed]",
      "text/plain": [
       "<matplotlib.figure.Figure at 0x7f81e9bc9b38>"
      ]
     },
     "metadata": {},
     "output_type": "display_data"
    }
   ],
   "source": [
    "def f42(t,y):\n",
    "    return np.array([9.*y[0] + 24.*y[1] + 5.*np.cos(t) - 1./3*np.sin(t),\\\n",
    "                    -24.*y[0] - 51.*y[1] - 9.*np.cos(t) + 1./3*np.sin(t)])\n",
    "x420 = np.array([4./3., 2./3.])\n",
    "h421 = 0.04\n",
    "y421 = rungeKutta2(np.copy(x420),f42,np.copy(h421),np.copy(T4))\n",
    "#print(np.transpose(y411)[0])\n",
    "plt.figure(7)\n",
    "plt.plot(np.arange(T[0],T[1]+0.000001,h421),np.transpose(y421)[0],'r*',label='h=0.04, u1')\n",
    "plt.plot(np.arange(T[0],T[1]+0.000001,h421),np.transpose(y421)[1],'g*',label='h=0.04, u2')\n",
    "plt.legend()\n",
    "plt.show()"
   ]
  },
  {
   "cell_type": "markdown",
   "metadata": {},
   "source": [
    "(iii) Code to generate results for $h = 0.06$ is given below:"
   ]
  },
  {
   "cell_type": "code",
   "execution_count": 44,
   "metadata": {},
   "outputs": [
    {
     "data": {
      "image/png": "[encoded data removed]",
      "text/plain": [
       "<matplotlib.figure.Figure at 0x7f81f9492470>"
      ]
     },
     "metadata": {},
     "output_type": "display_data"
    }
   ],
   "source": [
    "h422 = 0.06\n",
    "y422 = rungeKutta2(np.copy(x420),f42,np.copy(h422),np.copy(T4))\n",
    "#print(np.transpose(y411)[0])\n",
    "plt.figure(8)\n",
    "plt.plot(np.arange(T[0],T[1]+0.000001,h422),np.transpose(y422)[0],'r*',label='h=0.06, u1')\n",
    "plt.plot(np.arange(T[0],T[1]+0.000001,h422),np.transpose(y422)[1],'b*',label='h=0.06, u2')\n",
    "plt.legend()\n",
    "plt.show()"
   ]
  },
  {
   "cell_type": "markdown",
   "metadata": {},
   "source": [
    "(c)\n",
    "\n",
    "(i) Using the same way as (b), we can determine the maximum allowable time step to maintain absolute stability is given as $\\frac{2}{39}$, that is $0.0513$\n",
    "\n",
    "(ii) Code is given below:"
   ]
  },
  {
   "cell_type": "code",
   "execution_count": 45,
   "metadata": {},
   "outputs": [
    {
     "data": {
      "image/png": "[encoded data removed]",
      "text/plain": [
       "<matplotlib.figure.Figure at 0x7f81e9a3c400>"
      ]
     },
     "metadata": {},
     "output_type": "display_data"
    }
   ],
   "source": [
    "def f43(t,y):\n",
    "    return np.array([-20.*y[0] - 19.*y[1],\\\n",
    "                    -19.*y[0] - 20.*y[1]])\n",
    "x430 = np.array([2., 0.])\n",
    "h431 = 0.04\n",
    "y431 = rungeKutta2(np.copy(x430),f43,np.copy(h431),np.copy(T4))\n",
    "#print(np.transpose(y411)[0])\n",
    "plt.figure(9)\n",
    "plt.plot(np.arange(T[0],T[1]+0.000001,h431),np.transpose(y431)[0],'r*',label='h=0.04, u1')\n",
    "plt.plot(np.arange(T[0],T[1]+0.000001,h431),np.transpose(y431)[1],'g*',label='h=0.04, u2')\n",
    "plt.legend()\n",
    "plt.show()"
   ]
  },
  {
   "cell_type": "markdown",
   "metadata": {},
   "source": [
    "(iii) Code is given below:"
   ]
  },
  {
   "cell_type": "code",
   "execution_count": 46,
   "metadata": {},
   "outputs": [
    {
     "data": {
      "image/png": "[encoded data removed]",
      "text/plain": [
       "<matplotlib.figure.Figure at 0x7f81e9bc9630>"
      ]
     },
     "metadata": {},
     "output_type": "display_data"
    }
   ],
   "source": [
    "h432 = 0.06\n",
    "y432 = rungeKutta2(np.copy(x430),f43,np.copy(h432),np.copy(T4))\n",
    "#print(np.transpose(y411)[0])\n",
    "plt.figure(10)\n",
    "plt.plot(np.arange(T[0],T[1]+0.000001,h432),np.transpose(y432)[0],'r*',label='h=0.06, u1')\n",
    "plt.plot(np.arange(T[0],T[1]+0.000001,h432),np.transpose(y432)[1],'k-',label='h=0.06, u2')\n",
    "plt.legend()\n",
    "plt.show()"
   ]
  },
  {
   "cell_type": "code",
   "execution_count": null,
   "metadata": {
    "collapsed": true
   },
   "outputs": [],
   "source": []
  }
 ],
 "metadata": {
  "kernelspec": {
   "display_name": "Python3",
   "language": "python",
   "name": "python3"
  },
  "language_info": {
   "codemirror_mode": {
    "name": "ipython",
    "version": 3
   },
   "file_extension": ".py",
   "mimetype": "text/x-python",
   "name": "python",
   "nbconvert_exporter": "python",
   "pygments_lexer": "ipython3",
   "version": "3.6.2"
  }
 },
 "nbformat": 4,
 "nbformat_minor": 2
}
