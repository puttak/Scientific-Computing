{
 "cells": [
  {
   "cell_type": "markdown",
   "metadata": {},
   "source": [
    "# ME 581 Midterm Exam Solution (Python3)\n",
    "Yi Yang @ (yang1087@purdue.edu), all rights reserved."
   ]
  },
  {
   "cell_type": "markdown",
   "metadata": {},
   "source": [
    "# Problem 1\n",
    "The function $f(x) = 2x^4 - 12x^2 + 16x - 6$ is plotted below. The function has a root at $x = 1$.\n",
    "\n",
    "(a) Find an approximation of the root by performing 10 iterations of Newton's method, beginning with an initial guess of $x_0 = 0$. Print and plot the value of $x_i$ versus the iteration number $i$.\n",
    "\n",
    "(b) Plot the absolute error $e_i = |x_{i+1} - x_i|$ versus the iteration number $i$.\n",
    "\n",
    "(c) Determine the order of convergence and explain if you expected this order.\n",
    "\n",
    "(d) Perform 10 iterations using the bisection method starting in an interval $[0,3]$. Compute the order of convergence with the one in Newton's method.\n",
    "\n",
    "(e) A further root exist at $x = -3$. Perform 10 iterations using Newton's method, beginning with an initial guess of $x_0 = -4$. Print and plot the value of $x_i$ versus the iteration number $i$.\n",
    "\n",
    "(f) What order of convergence do you find for this root? Why?"
   ]
  },
  {
   "cell_type": "markdown",
   "metadata": {},
   "source": [
    "$\\textbf{Solution:}$ \n",
    "\n",
    "(a) The code for performming 10 iterations of Newton's method is shown below:"
   ]
  },
  {
   "cell_type": "code",
   "execution_count": 3,
   "metadata": {},
   "outputs": [
    {
     "name": "stdout",
     "output_type": "stream",
     "text": [
      "**ME 581 Midterm Printout**\n",
      "\n",
      "Newton's method is applied to function.\n",
      "Root Estimate #1: p(1) =         0.37500\n",
      "Root Estimate #2: p(2) =         0.59704\n",
      "Root Estimate #3: p(3) =         0.73657\n",
      "Root Estimate #4: p(4) =         0.82649\n",
      "Root Estimate #5: p(5) =         0.88522\n",
      "Root Estimate #6: p(6) =         0.92386\n",
      "Root Estimate #7: p(7) =         0.94940\n",
      "Root Estimate #8: p(8) =         0.96634\n",
      "Root Estimate #9: p(9) =         0.97759\n",
      "Root Estimate #10: p(10) =         0.98508\n",
      "The maximum number of 10 iterations     has been met.\n",
      "\n"
     ]
    },
    {
     "data": {
      "image/png": "[encoded data removed]",
      "text/plain": [
       "<matplotlib.figure.Figure at 0x7f9e40078400>"
      ]
     },
     "metadata": {},
     "output_type": "display_data"
    }
   ],
   "source": [
    "import numpy as np\n",
    "from matplotlib import pyplot as plt\n",
    "\n",
    "print('**ME 581 Midterm Printout**\\n')\n",
    "print('Newton\\'s method is applied to function.')\n",
    "\n",
    "# function definition\n",
    "def f(x):\n",
    "    var = 2.*x**4. - 12.*x**2. + 16.*x - 6.\n",
    "    return var\n",
    "# first derivative definition\n",
    "def df(x):\n",
    "    var = 8.*x**3. - 24.*x + 16.\n",
    "    return var\n",
    "epsilon = 0.000001\n",
    "Nmax = 10\n",
    "# array to save iterated values\n",
    "p = np.zeros(Nmax+1)\n",
    "# array to save error\n",
    "err = np.zeros(Nmax)\n",
    "#err42 = np.zeros(Nmax4+1)\n",
    "# set the initial iterated value\n",
    "p[0] = 0.\n",
    "#err42[0] = np.abs(p4[0]-3.0**(1.0/7))\n",
    "# now begin iteration\n",
    "for ind in range(0,Nmax):\n",
    "    if (df(p[ind]) == 0.0):\n",
    "        print('Choose another starting point')\n",
    "        break\n",
    "    else:\n",
    "        p[ind+1] = p[ind] - f(p[ind])/df(p[ind])\n",
    "        err[ind] = np.abs(p[ind+1] - p[ind])\n",
    "        #err42[ind4+1] = np.abs(p4[ind4+1] - 3.0**(1.0/7))\n",
    "        if (err[ind] < (2*epsilon)):\n",
    "            print(\"Root Estimate #{0:1d}: p({1:1d}) = \\\n",
    "            {2:6.5f}\".format(ind+1,ind+1,p[ind+1]))\n",
    "            print(\"The convergence tolerance has been met\")\n",
    "            break\n",
    "        print(\"Root Estimate #{0:1d}: p({1:1d}) = \\\n",
    "        {2:6.5f}\".format(ind+1,ind+1,p[ind+1]))\n",
    "if (ind >= (Nmax-1)):\n",
    "    print('The maximum number of {0:1d} iterations \\\n",
    "    has been met.\\n'.format(Nmax))\n",
    "plt.figure(1)\n",
    "plt.plot(np.arange(11),p,'ro',label='iterated value')\n",
    "#plt.legend()\n",
    "plt.xlabel('iteration number')\n",
    "plt.ylabel('iterated value')\n",
    "plt.show()"
   ]
  },
  {
   "cell_type": "markdown",
   "metadata": {},
   "source": [
    "(b) The absolute error $e_i = |x_{i+1} - x_i|$ versus the iteration number $i$ are shown below:"
   ]
  },
  {
   "cell_type": "code",
   "execution_count": 5,
   "metadata": {},
   "outputs": [
    {
     "name": "stdout",
     "output_type": "stream",
     "text": [
      "**ME 581 Midterm Printout**\n",
      "\n",
      "iteration number vs absolute error:\n",
      "Error Estimate #1: |p1-p0|     = 0.37500\n",
      "Error Estimate #2: |p2-p1|     = 0.22204\n",
      "Error Estimate #3: |p3-p2|     = 0.13953\n",
      "Error Estimate #4: |p4-p3|     = 0.08992\n",
      "Error Estimate #5: |p5-p4|     = 0.05872\n",
      "Error Estimate #6: |p6-p5|     = 0.03864\n",
      "Error Estimate #7: |p7-p6|     = 0.02555\n",
      "Error Estimate #8: |p8-p7|     = 0.01694\n",
      "Error Estimate #9: |p9-p8|     = 0.01125\n",
      "Error Estimate #10: |p10-p9|     = 0.00748\n"
     ]
    },
    {
     "data": {
      "image/png": "[encoded data removed]",
      "text/plain": [
       "<matplotlib.figure.Figure at 0x7f9e400815c0>"
      ]
     },
     "metadata": {},
     "output_type": "display_data"
    }
   ],
   "source": [
    "print('**ME 581 Midterm Printout**\\n')\n",
    "print('iteration number vs absolute error:')\n",
    "for ii in range(0,Nmax):\n",
    "    print(\"Error Estimate #{0:1d}: |p{1:d}-p{2:d}| \\\n",
    "    = {3:6.5f}\".format(ii+1,ii+1,ii,err[ii]))\n",
    "plt.figure(2)\n",
    "plt.plot(np.arange(1,11),err,'bx')\n",
    "plt.xlabel('iteration number')\n",
    "plt.ylabel('absolute error')\n",
    "plt.show()"
   ]
  },
  {
   "cell_type": "markdown",
   "metadata": {},
   "source": [
    "(c) define function \n",
    "$$g(x) = x - \\frac{f(x)}{f'(x)} = \\frac{6x^4 - 12x^2 + 6}{8x^3 - 24x + 16}$$\n",
    "$g'(x) \\neq 0$, the order of convergence is expected to be 1. The actual value of order of convergence is 1 shown below, which is aligned with the expected one."
   ]
  },
  {
   "cell_type": "code",
   "execution_count": 13,
   "metadata": {},
   "outputs": [
    {
     "name": "stdout",
     "output_type": "stream",
     "text": [
      "LinregressResult(slope=0.98663032948952933, intercept=-0.44638629324803203, rvalue=0.99996202728418837, pvalue=9.095883802452025e-18, stderr=0.0030399935655411911)\n",
      "LinregressResult(slope=0.97244891621880913, intercept=-0.51201769840627165, rvalue=0.99985642888984105, pvalue=1.1673769916990202e-13, stderr=0.0062289245702035183)\n"
     ]
    }
   ],
   "source": [
    "from scipy.stats import linregress\n",
    "a1 = linregress(np.log(abs(p[:-1]-np.ones(10))),np.log(abs(p[1:]-np.ones(10))))\n",
    "a2 = linregress(np.log(err[:-1]),np.log(err[1:]))\n",
    "print(a1)\n",
    "print(a2)"
   ]
  },
  {
   "cell_type": "markdown",
   "metadata": {},
   "source": [
    "(d) The code using bisection methods is shown below, the order of convergence using bisection method is also 1, which is equal to Newton's method starting from 0 point."
   ]
  },
  {
   "cell_type": "code",
   "execution_count": 17,
   "metadata": {},
   "outputs": [
    {
     "name": "stdout",
     "output_type": "stream",
     "text": [
      "**ME 581 Midterm Printout\n",
      "**\n",
      "Root Estimate #1: p(1) =          1.50000\n",
      "Root Estimate #2: p(2) =          0.75000\n",
      "Root Estimate #3: p(3) =          1.12500\n",
      "Root Estimate #4: p(4) =          0.93750\n",
      "Root Estimate #5: p(5) =          1.03125\n",
      "Root Estimate #6: p(6) =          0.98438\n",
      "Root Estimate #7: p(7) =          1.00781\n",
      "Root Estimate #8: p(8) =          0.99609\n",
      "Root Estimate #9: p(9) =          1.00195\n",
      "Root Estimate #10: p(10) =          0.99902\n",
      "The maximum number of 10 iterations          has been met.\n",
      "\n",
      "**Error Printout**\n",
      "\n",
      "Error Estimate #1: err(1) = 0.50000\n",
      "Error Estimate #2: err(2) = 0.25000\n",
      "Error Estimate #3: err(3) = 0.12500\n",
      "Error Estimate #4: err(4) = 0.06250\n",
      "Error Estimate #5: err(5) = 0.03125\n",
      "Error Estimate #6: err(6) = 0.01562\n",
      "Error Estimate #7: err(7) = 0.00781\n",
      "Error Estimate #8: err(8) = 0.00391\n",
      "Error Estimate #9: err(9) = 0.00195\n",
      "Error Estimate #10: err(10) = 0.00098\n",
      "**Linear regression to approximate order of convergence:**\n",
      "LinregressResult(slope=1.0, intercept=-0.6931471805599454, rvalue=1.0, pvalue=3.2925853848031461e-70, stderr=0.0)\n"
     ]
    }
   ],
   "source": [
    "print('**ME 581 Midterm Printout\\n**')\n",
    "a3 = 0.\n",
    "b3 = 3.\n",
    "epsilon3 = 0.000005\n",
    "Nmax3 = 10\n",
    "p3 = np.zeros(Nmax3)\n",
    "p3.fill(np.nan)\n",
    "ii3 = 1\n",
    "sfa3 = np.sign( f( a3 ) )\n",
    "for ii3 in range(0,Nmax3):\n",
    "   p3[ii3] = a3 + (b3-a3)/2\n",
    "   if ( (b3-a3) < (2*epsilon3) ):\n",
    "      print(\"Root Estimate #{0:d}: p({1:d}) = \\\n",
    "            {2:6.5f}\".format(ii3+1,ii3+1,p3[ii3]))\n",
    "      print(\"The convergence tolerance has been met.\")\n",
    "      break\n",
    "   print(\"Root Estimate #{0:d}: p({1:d}) = \\\n",
    "         {2:6.5f}\".format(ii3+1,ii3+1,p3[ii3]))\n",
    "   sfp3 = np.sign( f( p3[ii3] ) );\n",
    "   if ( (sfa3*sfp3) < 0.0 ):\n",
    "      b3 = p3[ii3]\n",
    "   else:\n",
    "      a3 = p3[ii3]\n",
    "      sfa3 = sfp3\n",
    "if (ii3 >= (Nmax3-1)):\n",
    "   print(\"The maximum number of {0:1d} iterations \\\n",
    "         has been met.\\n\".format(Nmax3))\n",
    "print('**Error Printout**\\n')\n",
    "error_pb3 = np.zeros(ii3+1)\n",
    "error_pb3.fill(np.nan)\n",
    "for ind3, pact3 in enumerate(p3[0:ii3+1]):\n",
    "    error_pb3[ind3] = np.abs(pact3 - 1.0)\n",
    "    print(\"Error Estimate #{0:d}: err({1:d}) = {2:6.5f}\".format(ind3+1,ind3+1,error_pb3[ind3]))\n",
    "print('**Linear regression to approximate order of convergence:**')\n",
    "print(linregress(np.log(error_pb3[:-1]),np.log(error_pb3[1:])))"
   ]
  },
  {
   "cell_type": "markdown",
   "metadata": {},
   "source": [
    "(e) The code using Newton's method is shown below, the iteration terminates when tolerance attained."
   ]
  },
  {
   "cell_type": "code",
   "execution_count": 28,
   "metadata": {},
   "outputs": [
    {
     "name": "stdout",
     "output_type": "stream",
     "text": [
      "Root Estimate #1: p(1) =         -3.37500000000000000000000000000000000000000000000000\n",
      "Root Estimate #2: p(2) =         -3.07670454545454541417370819544885307550430297851562\n",
      "Root Estimate #3: p(3) =         -3.00409832993523639999011720647104084491729736328125\n",
      "Root Estimate #4: p(4) =         -3.00001254581430698564759040891658514738082885742188\n",
      "Root Estimate #5: p(5) =         -3.00000000011804646149471409444231539964675903320312\n",
      "Root Estimate #6: p(6) =         -3.00000000000000000000000000000000000000000000000000\n",
      "Root Estimate #7: p(7) =             -3.00000000000000000000000000000000000000000000000000\n",
      "The convergence tolerance has been met\n"
     ]
    },
    {
     "data": {
      "image/png": "[encoded data removed]",
      "text/plain": [
       "<matplotlib.figure.Figure at 0x7f9e3ffc5e48>"
      ]
     },
     "metadata": {},
     "output_type": "display_data"
    }
   ],
   "source": [
    "epsilon4 = 1.e-50\n",
    "Nmax4 = 10\n",
    "# array to save iterated values\n",
    "p4 = np.zeros(Nmax4+1)\n",
    "# array to save error\n",
    "err4 = np.zeros(Nmax4)\n",
    "#err42 = np.zeros(Nmax4+1)\n",
    "# set the initial iterated value\n",
    "p4[0] = -4.\n",
    "#err42[0] = np.abs(p4[0]-3.0**(1.0/7))\n",
    "# now begin iteration\n",
    "for ind4 in range(0,Nmax4):\n",
    "    if (df(p4[ind4]) == 0.0):\n",
    "        print('Choose another starting point')\n",
    "        break\n",
    "    else:\n",
    "        p4[ind4+1] = p4[ind4] - f(p4[ind4])/df(p4[ind4])\n",
    "        err4[ind4] = np.abs(p4[ind4+1] - p4[ind4])\n",
    "        #err42[ind4+1] = np.abs(p4[ind4+1] - 3.0**(1.0/7))\n",
    "        if (err4[ind4] < (2*epsilon4)):\n",
    "            print(\"Root Estimate #{0:1d}: p({1:1d}) = \\\n",
    "            {2:51.50f}\".format(ind4+1,ind4+1,p4[ind4+1]))\n",
    "            print(\"The convergence tolerance has been met\")\n",
    "            break\n",
    "        print(\"Root Estimate #{0:1d}: p({1:1d}) = \\\n",
    "        {2:51.50f}\".format(ind4+1,ind4+1,p4[ind4+1]))\n",
    "if (ind4 >= (Nmax4-1)):\n",
    "    print('The maximum number of {0:1d} iterations \\\n",
    "    has been met.\\n'.format(Nmax4))\n",
    "plt.figure(3)\n",
    "plt.plot(np.arange(ind4+2),p4[:ind4+2],'ro',label='iterated value')\n",
    "#plt.legend()\n",
    "plt.xlabel('iteration number')\n",
    "plt.ylabel('iterated value')\n",
    "plt.show()"
   ]
  },
  {
   "cell_type": "markdown",
   "metadata": {},
   "source": [
    "(f) According to fixed point contraction theorem, we analyze the function $g(x) = x - \\tfrac{f(x)}{f'(x)}$.\n",
    "$$g'(x) = \\frac{f(x)f''(x)}{f'(x)^2}$$\n",
    "For the new zero point, $f'(-3)\\neq 0$ and $g'(-3) = 0$. We also have,\n",
    "$$g''(s) = \\frac{f''(s)}{f'(s)} = \\frac{24s^2-24}{8s^3-24s+16} = -1.5\\neq 0$$\n",
    "Theoretically, we prove that using Newton's method to solve for the new zero point $x_0 = -3$ has order of convergence equal to 2, as evaluated by the code below."
   ]
  },
  {
   "cell_type": "code",
   "execution_count": 32,
   "metadata": {},
   "outputs": [
    {
     "name": "stdout",
     "output_type": "stream",
     "text": [
      "LinregressResult(slope=2.0048018852656799, intercept=-0.23998394476313578, rvalue=0.99999521634242416, pvalue=1.255953823439472e-08, stderr=0.0035802011922991522)\n"
     ]
    }
   ],
   "source": [
    "print(linregress(np.log(err4[:ind4-1]),np.log(err4[1:ind4])))"
   ]
  },
  {
   "cell_type": "markdown",
   "metadata": {},
   "source": [
    "## Problem 2\n",
    "The matrix R summarizes the correlations among speeds for the 100m, 200m, 400m, 800m, 1500m, 5000m, 10000m, and marathon events extracted from Olympic track records.\n",
    "$$R = \\begin{pmatrix}\n",
    "1.00 & 0.91 & 0.82 & 0.70 & 0.69 & 0.60 & 0.70 & 0.50\\\\\n",
    "0.91 & 1.00 & 0.85 & 0.80 & 0.77 & 0.60 & 0.69 & 0.60\\\\\n",
    "0.82 & 0.85 & 1.00 & 0.90 & 0.83 & 0.77 & 0.78 & 0.67\\\\\n",
    "0.70 & 0.80 & 0.90 & 1.00 & 0.97 & 0.85 & 0.87 & 0.79\\\\\n",
    "0.69 & 0.77 & 0.83 & 0.97 & 1.00 & 0.92 & 0.95 & 0.80\\\\\n",
    "0.60 & 0.60 & 0.77 & 0.85 & 0.92 & 1.00 & 0.97 & 0.92\\\\\n",
    "0.70 & 0.69 & 0.78 & 0.87 & 0.95 & 0.97 & 1.00 & 0.94\\\\\n",
    "0.50 & 0.60 & 0.67 & 0.79 & 0.80 & 0.92 & 0.94 & 1.00\n",
    "\\end{pmatrix}$$\n",
    "The events in the matrix are provided in the order 100m, 200m, 400m, 800m, 1500m, 5000m, 10000m, and marathon. The eigenvector associated with the largest eigenvalue of R is called the principle component. Further, the percentage of variation accounted for by the principle component is given by the ratio of the corresponding eigenvalue and the number of variables (8 in this case).\n",
    "\n",
    "(a) Perform 10 iterations uisng the power method to calculate the largest eigenvalue of R and the principle component, beginning with an initial guess of $x_0 = [1,1,1,1,1,1,1,1]^T$. Normalize the eigenvector using the $L_2$ norm.\n",
    "\n",
    "(b) Calculate the percentage of variation accounted for by the principle component."
   ]
  },
  {
   "cell_type": "markdown",
   "metadata": {},
   "source": [
    "$\\textbf{Solution:}$ \n",
    "\n",
    "(a) Perform 10 iterations using the power method is shown below:"
   ]
  },
  {
   "cell_type": "code",
   "execution_count": 36,
   "metadata": {},
   "outputs": [
    {
     "name": "stdout",
     "output_type": "stream",
     "text": [
      "**ME 581 Midterm Printout**\n",
      "\n",
      "(a) The final values of the estimated vector is  [ 0.312954  0.329436  0.352487  0.367886  0.370951  0.35519   0.368913\n",
      "  0.332939]\n",
      "(a) The final estimated eigenvalue is  6.56032996429\n"
     ]
    }
   ],
   "source": [
    "# power method function definition\n",
    "def eig_power(A,v0,Nmax):\n",
    "    # A is the matrix\n",
    "    # v0 is the initial eigenvector\n",
    "    # Nmax is the maximum iteration number\n",
    "    Lambda = np.zeros(Nmax)\n",
    "    v = np.zeros((Nmax+1, v0.shape[0]))\n",
    "    conv = np.zeros(Nmax-1)\n",
    "    v[0] = np.copy(v0)\n",
    "    for i in range(Nmax):\n",
    "        v[i+1] = np.dot(A,v[i])\n",
    "        Lambda[i] = np.linalg.norm(v[i+1],2)/np.linalg.norm(v[i],2)\n",
    "    conv = abs(Lambda[1:] - Lambda[:-1])\n",
    "    v = v/np.linalg.norm(v,2)\n",
    "    return v, Lambda, conv\n",
    "\n",
    "R = np.array([[1.00, 0.91, 0.82, 0.70, 0.69, 0.60, 0.70, 0.50], \\\n",
    "              [0.91, 1.00, 0.85, 0.80, 0.77, 0.60, 0.69, 0.60], \\\n",
    "              [0.82, 0.85, 1.00, 0.90, 0.83, 0.77, 0.78, 0.67], \\\n",
    "              [0.70, 0.80, 0.90, 1.00, 0.97, 0.85, 0.87, 0.79], \\\n",
    "              [0.69, 0.77, 0.83, 0.97, 1.00, 0.92, 0.95, 0.80], \\\n",
    "              [0.60, 0.60, 0.77, 0.85, 0.92, 1.00, 0.97, 0.92], \\\n",
    "              [0.70, 0.69, 0.78, 0.87, 0.95, 0.97, 1.00, 0.94], \\\n",
    "              [0.50, 0.60, 0.67, 0.79, 0.80, 0.92, 0.94, 1.00]])\n",
    "x0 = np.array([1, 1, 1, 1, 1, 1, 1, 1])\n",
    "v2, Lambda2, conv2 = eig_power(R,x0,10)\n",
    "print(\"**ME 581 Midterm Printout**\\n\")\n",
    "np.set_printoptions(precision=6)\n",
    "print(\"(a) The final values of the estimated vector is \", v2[10])\n",
    "print(\"(a) The final estimated eigenvalue is \", Lambda2[9])\n",
    "#print(\"(a) The final estimated value of convergence is \", conv2[8])\n",
    "#ww1,vv1 = np.linalg.eig(R)\n",
    "#print(ww1,vv1)"
   ]
  },
  {
   "cell_type": "markdown",
   "metadata": {},
   "source": [
    "(b) By its definition, the percentage of variation accounted for by the principal component is \n",
    "$$PoV = \\frac{\\lambda_1}{8} = \\frac{6.56033}{8} = 0.82$$"
   ]
  },
  {
   "cell_type": "code",
   "execution_count": null,
   "metadata": {
    "collapsed": true
   },
   "outputs": [],
   "source": []
  }
 ],
 "metadata": {
  "kernelspec": {
   "display_name": "Python3",
   "language": "python",
   "name": "python3"
  },
  "language_info": {
   "codemirror_mode": {
    "name": "ipython",
    "version": 3
   },
   "file_extension": ".py",
   "mimetype": "text/x-python",
   "name": "python",
   "nbconvert_exporter": "python",
   "pygments_lexer": "ipython3",
   "version": "3.6.2"
  }
 },
 "nbformat": 4,
 "nbformat_minor": 2
}
